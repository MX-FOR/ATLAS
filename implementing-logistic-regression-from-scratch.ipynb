{
 "cells": [
  {
   "cell_type": "markdown",
   "metadata": {},
   "source": [
    "<h2><center> <span style = \"font-family: Babas; font-size: 2em;\"> Implementing Logistic Regression from Scratch </span> </center></h2>\n",
    "<h4><center> <span style = \"font-family: Babas; font-size: 2em;\"> Sugata Ghosh </span> </center></h4>"
   ]
  },
  {
   "cell_type": "markdown",
   "metadata": {},
   "source": [
    "### Contents\n",
    "\n",
    "- [Introduction](#Introduction)\n",
    "- [Logistic Function](#Logistic-Function)\n",
    "- [Log Loss](#Log-Loss)\n",
    "- [Cost Function](#Cost-Function)\n",
    "- [Gradient Descent](#Gradient-Descent)\n",
    "- [Preprocessing](#Preprocessing)\n",
    "- [Model Fitting](#Model-Fitting)\n",
    "- [Prediction and Evaluation](#Prediction-and-Evaluation)\n",
    "- [Regularization](#Regularization)\n",
    "- [Acknowledgements](#Acknowledgements)\n",
    "- [References](#References)"
   ]
  },
  {
   "cell_type": "code",
   "execution_count": 1,
   "metadata": {
    "execution": {
     "iopub.execute_input": "2022-07-25T09:39:08.533796Z",
     "iopub.status.busy": "2022-07-25T09:39:08.533130Z",
     "iopub.status.idle": "2022-07-25T09:39:09.931480Z",
     "shell.execute_reply": "2022-07-25T09:39:09.930166Z",
     "shell.execute_reply.started": "2022-07-25T09:39:08.533706Z"
    }
   },
   "outputs": [
    {
     "name": "stderr",
     "output_type": "stream",
     "text": [
      "/home/diego/.local/lib/python3.8/site-packages/scipy/__init__.py:138: UserWarning: A NumPy version >=1.16.5 and <1.23.0 is required for this version of SciPy (detected version 1.23.3)\n",
      "  warnings.warn(f\"A NumPy version >={np_minversion} and <{np_maxversion} is required for this version of \"\n"
     ]
    }
   ],
   "source": [
    "# Importing libraries\n",
    "import time, psutil, os, math\n",
    "from tqdm.contrib import itertools\n",
    "import numpy as np\n",
    "import pandas as pd\n",
    "import matplotlib.pyplot as plt\n",
    "import seaborn as sns\n",
    "sns.set_theme()\n",
    "from sklearn.model_selection import train_test_split"
   ]
  },
  {
   "cell_type": "code",
   "execution_count": 2,
   "metadata": {
    "execution": {
     "iopub.execute_input": "2022-07-25T09:39:09.934025Z",
     "iopub.status.busy": "2022-07-25T09:39:09.933580Z",
     "iopub.status.idle": "2022-07-25T09:39:09.939648Z",
     "shell.execute_reply": "2022-07-25T09:39:09.938876Z",
     "shell.execute_reply.started": "2022-07-25T09:39:09.933967Z"
    }
   },
   "outputs": [],
   "source": [
    "# Runtime and memory usage\n",
    "start = time.time()\n",
    "process = psutil.Process(os.getpid())"
   ]
  },
  {
   "cell_type": "markdown",
   "metadata": {},
   "source": [
    "# Introduction"
   ]
  },
  {
   "cell_type": "markdown",
   "metadata": {},
   "source": [
    "**Classification.** In [statistics](https://en.wikipedia.org/wiki/Statistics) and [machine learning](https://en.wikipedia.org/wiki/Machine_learning), [classification](https://en.wikipedia.org/wiki/Statistical_classification) refers to a type of [supervised learning](https://en.wikipedia.org/wiki/Supervised_learning). For this task, training data with known class labels are given and is used to develop a [classification rule](https://en.wikipedia.org/wiki/Classification_rule) for assigning new unlabeled data to one of the classes. A special case of the task is [binary classification](https://en.wikipedia.org/wiki/Binary_classification), which involves only two classes. Some examples:\n",
    "\n",
    "- Classifying an email as `spam` or `non-spam`\n",
    "- Classifying a tumor as `benign` or `malignant`\n",
    "\n",
    "The algorithms that sort unlabeled data into labeled classes are called *classifiers*. Loosely speaking, the [sorting hat](https://en.wikipedia.org/wiki/Magical_objects_in_Harry_Potter#Sorting_Hat) from [Hogwarts](https://en.wikipedia.org/wiki/Hogwarts) can be thought of as a classifier that sorts incoming students into four distinct houses. In real life, some common classifiers are [logistic regression](https://en.wikipedia.org/wiki/Logistic_regression), [k-nearest neighbors](https://en.wikipedia.org/wiki/K-nearest_neighbors_algorithm), [decision tree](https://en.wikipedia.org/wiki/Decision_tree_learning), [random forest](https://en.wikipedia.org/wiki/Random_forest), [support vector machine](https://en.wikipedia.org/wiki/Support-vector_machine), [naive Bayes](https://en.wikipedia.org/wiki/Naive_Bayes_classifier), [linear discriminant analysis](https://en.wikipedia.org/wiki/Linear_discriminant_analysis), [stochastic gradient descent](https://en.wikipedia.org/wiki/Stochastic_gradient_descent), [XGBoost](https://en.wikipedia.org/wiki/XGBoost), [AdaBoost](https://en.wikipedia.org/wiki/AdaBoost) and [neural networks](https://en.wikipedia.org/wiki/Artificial_neural_network).\n",
    "\n",
    "**The purpose of the notebook.** Many advanced libraries, such as [scikit-learn](https://en.wikipedia.org/wiki/Scikit-learn), make it possible for us to train various models on labeled [training data](https://en.wikipedia.org/wiki/Training,_validation,_and_test_data_sets#Training_data_set), and predict on unlabeled [test data](https://en.wikipedia.org/wiki/Training,_validation,_and_test_data_sets#Test_data_set), with a few lines of codes. While it is very convenient for day-to-day practice, it does not give insight into the details of what really happens underneath, when we run those codes. In the present notebook, we implement a logistic regression model manually from scratch, without using any advanced library, to understand how it works in the context of binary classification. The basic idea is to segment the computations into pieces, and write functions to compute each piece in a sequential manner, so that we can build a function on the basis of the previously defined functions. Wherever applicable, we have complemented a function which is constructed using for loops, with a much faster vectorized implementation of the same.\n",
    "\n",
    "**A problem from particle physics.** We have chosen the particular problem posed in [this competition](https://www.kaggle.com/competitions/higgs-boson). In [particle physics](https://en.wikipedia.org/wiki/Particle_physics), an event refers to the results just after a [fundamental interaction](https://en.wikipedia.org/wiki/Fundamental_interaction) takes place between [subatomic particles](https://en.wikipedia.org/wiki/Subatomic_particle), occurring in a very short time span, at a well-localized region of space. The problem is to classify an event produced in a particle accelerator as *background* or *signal*, based on relevant feature variables. A background event is explained by the existing theories and previous observations. A signal event, however, indicates a process that cannot be described by previous observations and leads to the potential discovery of a new particle. More on this problem is detailed in the introduction section of [this notebook](https://www.kaggle.com/code/sugataghosh/higgs-boson-event-detection-part-1-eda).\n",
    "\n",
    "**Data.** [The dataset](https://www.kaggle.com/competitions/higgs-boson/data), provided with the competition, has been built from official ATLAS full-detector simulation. The simulator has two parts. In the first, random proton-proton collisions are simulated based on the knowledge that we have accumulated on particle physics. It reproduces the random microscopic explosions resulting from the proton-proton collisions. In the second part, the resulting particles are tracked through a virtual model of the detector. The process yields simulated events with properties that mimic the statistical properties of the real events with additional information on what has happened during the collision, before particles are measured in the detector. Information on $250000$ events are included int he dataset. For each event, it has information on $31$ features ($2$ integer-type features and $29$ float-type features). Additionally, the dataset contains the object-type target variable `labels` and float-type variable `weights`. The target variable can take two possible values: $b$ (indicating a background event) and $s$ (indicating a signal event)."
   ]
  },
  {
   "cell_type": "code",
   "execution_count": 3,
   "metadata": {
    "execution": {
     "iopub.execute_input": "2022-07-25T09:39:09.941315Z",
     "iopub.status.busy": "2022-07-25T09:39:09.940594Z",
     "iopub.status.idle": "2022-07-25T09:39:11.763382Z",
     "shell.execute_reply": "2022-07-25T09:39:11.762133Z",
     "shell.execute_reply.started": "2022-07-25T09:39:09.941283Z"
    }
   },
   "outputs": [
    {
     "name": "stdout",
     "output_type": "stream",
     "text": [
      "Memory usage       62.9426 MB\n",
      "Dataset shape    (250000, 33)\n"
     ]
    },
    {
     "data": {
      "text/html": [
       "<div>\n",
       "<style scoped>\n",
       "    .dataframe tbody tr th:only-of-type {\n",
       "        vertical-align: middle;\n",
       "    }\n",
       "\n",
       "    .dataframe tbody tr th {\n",
       "        vertical-align: top;\n",
       "    }\n",
       "\n",
       "    .dataframe thead th {\n",
       "        text-align: right;\n",
       "    }\n",
       "</style>\n",
       "<table border=\"1\" class=\"dataframe\">\n",
       "  <thead>\n",
       "    <tr style=\"text-align: right;\">\n",
       "      <th></th>\n",
       "      <th>EventId</th>\n",
       "      <th>DER_mass_MMC</th>\n",
       "      <th>DER_mass_transverse_met_lep</th>\n",
       "      <th>DER_mass_vis</th>\n",
       "      <th>DER_pt_h</th>\n",
       "      <th>DER_deltaeta_jet_jet</th>\n",
       "      <th>DER_mass_jet_jet</th>\n",
       "      <th>DER_prodeta_jet_jet</th>\n",
       "      <th>DER_deltar_tau_lep</th>\n",
       "      <th>DER_pt_tot</th>\n",
       "      <th>...</th>\n",
       "      <th>PRI_jet_num</th>\n",
       "      <th>PRI_jet_leading_pt</th>\n",
       "      <th>PRI_jet_leading_eta</th>\n",
       "      <th>PRI_jet_leading_phi</th>\n",
       "      <th>PRI_jet_subleading_pt</th>\n",
       "      <th>PRI_jet_subleading_eta</th>\n",
       "      <th>PRI_jet_subleading_phi</th>\n",
       "      <th>PRI_jet_all_pt</th>\n",
       "      <th>Weight</th>\n",
       "      <th>Label</th>\n",
       "    </tr>\n",
       "  </thead>\n",
       "  <tbody>\n",
       "    <tr>\n",
       "      <th>0</th>\n",
       "      <td>100000</td>\n",
       "      <td>138.470</td>\n",
       "      <td>51.655</td>\n",
       "      <td>97.827</td>\n",
       "      <td>27.980</td>\n",
       "      <td>0.91</td>\n",
       "      <td>124.711</td>\n",
       "      <td>2.666</td>\n",
       "      <td>3.064</td>\n",
       "      <td>41.928</td>\n",
       "      <td>...</td>\n",
       "      <td>2</td>\n",
       "      <td>67.435</td>\n",
       "      <td>2.150</td>\n",
       "      <td>0.444</td>\n",
       "      <td>46.062</td>\n",
       "      <td>1.24</td>\n",
       "      <td>-2.475</td>\n",
       "      <td>113.497</td>\n",
       "      <td>0.002653</td>\n",
       "      <td>s</td>\n",
       "    </tr>\n",
       "    <tr>\n",
       "      <th>1</th>\n",
       "      <td>100001</td>\n",
       "      <td>160.937</td>\n",
       "      <td>68.768</td>\n",
       "      <td>103.235</td>\n",
       "      <td>48.146</td>\n",
       "      <td>-999.00</td>\n",
       "      <td>-999.000</td>\n",
       "      <td>-999.000</td>\n",
       "      <td>3.473</td>\n",
       "      <td>2.078</td>\n",
       "      <td>...</td>\n",
       "      <td>1</td>\n",
       "      <td>46.226</td>\n",
       "      <td>0.725</td>\n",
       "      <td>1.158</td>\n",
       "      <td>-999.000</td>\n",
       "      <td>-999.00</td>\n",
       "      <td>-999.000</td>\n",
       "      <td>46.226</td>\n",
       "      <td>2.233584</td>\n",
       "      <td>b</td>\n",
       "    </tr>\n",
       "    <tr>\n",
       "      <th>2</th>\n",
       "      <td>100002</td>\n",
       "      <td>-999.000</td>\n",
       "      <td>162.172</td>\n",
       "      <td>125.953</td>\n",
       "      <td>35.635</td>\n",
       "      <td>-999.00</td>\n",
       "      <td>-999.000</td>\n",
       "      <td>-999.000</td>\n",
       "      <td>3.148</td>\n",
       "      <td>9.336</td>\n",
       "      <td>...</td>\n",
       "      <td>1</td>\n",
       "      <td>44.251</td>\n",
       "      <td>2.053</td>\n",
       "      <td>-2.028</td>\n",
       "      <td>-999.000</td>\n",
       "      <td>-999.00</td>\n",
       "      <td>-999.000</td>\n",
       "      <td>44.251</td>\n",
       "      <td>2.347389</td>\n",
       "      <td>b</td>\n",
       "    </tr>\n",
       "    <tr>\n",
       "      <th>3</th>\n",
       "      <td>100003</td>\n",
       "      <td>143.905</td>\n",
       "      <td>81.417</td>\n",
       "      <td>80.943</td>\n",
       "      <td>0.414</td>\n",
       "      <td>-999.00</td>\n",
       "      <td>-999.000</td>\n",
       "      <td>-999.000</td>\n",
       "      <td>3.310</td>\n",
       "      <td>0.414</td>\n",
       "      <td>...</td>\n",
       "      <td>0</td>\n",
       "      <td>-999.000</td>\n",
       "      <td>-999.000</td>\n",
       "      <td>-999.000</td>\n",
       "      <td>-999.000</td>\n",
       "      <td>-999.00</td>\n",
       "      <td>-999.000</td>\n",
       "      <td>-0.000</td>\n",
       "      <td>5.446378</td>\n",
       "      <td>b</td>\n",
       "    </tr>\n",
       "    <tr>\n",
       "      <th>4</th>\n",
       "      <td>100004</td>\n",
       "      <td>175.864</td>\n",
       "      <td>16.915</td>\n",
       "      <td>134.805</td>\n",
       "      <td>16.405</td>\n",
       "      <td>-999.00</td>\n",
       "      <td>-999.000</td>\n",
       "      <td>-999.000</td>\n",
       "      <td>3.891</td>\n",
       "      <td>16.405</td>\n",
       "      <td>...</td>\n",
       "      <td>0</td>\n",
       "      <td>-999.000</td>\n",
       "      <td>-999.000</td>\n",
       "      <td>-999.000</td>\n",
       "      <td>-999.000</td>\n",
       "      <td>-999.00</td>\n",
       "      <td>-999.000</td>\n",
       "      <td>0.000</td>\n",
       "      <td>6.245333</td>\n",
       "      <td>b</td>\n",
       "    </tr>\n",
       "  </tbody>\n",
       "</table>\n",
       "<p>5 rows × 33 columns</p>\n",
       "</div>"
      ],
      "text/plain": [
       "   EventId  DER_mass_MMC  DER_mass_transverse_met_lep  DER_mass_vis  DER_pt_h  \\\n",
       "0   100000       138.470                       51.655        97.827    27.980   \n",
       "1   100001       160.937                       68.768       103.235    48.146   \n",
       "2   100002      -999.000                      162.172       125.953    35.635   \n",
       "3   100003       143.905                       81.417        80.943     0.414   \n",
       "4   100004       175.864                       16.915       134.805    16.405   \n",
       "\n",
       "   DER_deltaeta_jet_jet  DER_mass_jet_jet  DER_prodeta_jet_jet  \\\n",
       "0                  0.91           124.711                2.666   \n",
       "1               -999.00          -999.000             -999.000   \n",
       "2               -999.00          -999.000             -999.000   \n",
       "3               -999.00          -999.000             -999.000   \n",
       "4               -999.00          -999.000             -999.000   \n",
       "\n",
       "   DER_deltar_tau_lep  DER_pt_tot  ...  PRI_jet_num  PRI_jet_leading_pt  \\\n",
       "0               3.064      41.928  ...            2              67.435   \n",
       "1               3.473       2.078  ...            1              46.226   \n",
       "2               3.148       9.336  ...            1              44.251   \n",
       "3               3.310       0.414  ...            0            -999.000   \n",
       "4               3.891      16.405  ...            0            -999.000   \n",
       "\n",
       "   PRI_jet_leading_eta  PRI_jet_leading_phi  PRI_jet_subleading_pt  \\\n",
       "0                2.150                0.444                 46.062   \n",
       "1                0.725                1.158               -999.000   \n",
       "2                2.053               -2.028               -999.000   \n",
       "3             -999.000             -999.000               -999.000   \n",
       "4             -999.000             -999.000               -999.000   \n",
       "\n",
       "   PRI_jet_subleading_eta  PRI_jet_subleading_phi  PRI_jet_all_pt    Weight  \\\n",
       "0                    1.24                  -2.475         113.497  0.002653   \n",
       "1                 -999.00                -999.000          46.226  2.233584   \n",
       "2                 -999.00                -999.000          44.251  2.347389   \n",
       "3                 -999.00                -999.000          -0.000  5.446378   \n",
       "4                 -999.00                -999.000           0.000  6.245333   \n",
       "\n",
       "   Label  \n",
       "0      s  \n",
       "1      b  \n",
       "2      b  \n",
       "3      b  \n",
       "4      b  \n",
       "\n",
       "[5 rows x 33 columns]"
      ]
     },
     "execution_count": 3,
     "metadata": {},
     "output_type": "execute_result"
    }
   ],
   "source": [
    "# Loading the data\n",
    "data = pd.read_csv('training.zip')\n",
    "print(pd.Series({\"Memory usage\": \"{:.4f} MB\".format(data.memory_usage().sum()/(1024*1024)),\n",
    "                 \"Dataset shape\": \"{}\".format(data.shape)}).to_string())\n",
    "data.head()"
   ]
  },
  {
   "cell_type": "markdown",
   "metadata": {},
   "source": [
    "**Synopsis of the data**\n",
    "\n",
    "- Number of observations: $250000$\n",
    "- Number of columns: $33$\n",
    "- Number of integer columns: $2$\n",
    "- Number of float columns: $30$\n",
    "- Number of object columns: $1$\n",
    "- Number of duplicate observations: $0$\n",
    "- Constant columns: None\n",
    "- Number of columns with missing values: $0$\n",
    "- Memory Usage: $62.94$ MB"
   ]
  },
  {
   "cell_type": "markdown",
   "metadata": {},
   "source": [
    "# Logistic Function"
   ]
  },
  {
   "cell_type": "markdown",
   "metadata": {},
   "source": [
    "A function $g: \\mathbb{R} \\to \\mathbb{R}$ is said to be a [sigmoid function](https://en.wikipedia.org/wiki/Sigmoid_function) if it has the following properties:\n",
    "- It is [bounded](https://en.wikipedia.org/wiki/Bounded_function)\n",
    "- It is [differentiable](https://en.wikipedia.org/wiki/Differentiable_function)\n",
    "- It has nonnegative derivative at each point\n",
    "- It has exactly one [inflection point](https://en.wikipedia.org/wiki/Inflection_point)\n",
    "\n",
    "An example of a sigmoid function is the standard [logistic function](https://en.wikipedia.org/wiki/Logistic_function) (sometimes simply referred to as the *sigmoid*), which is given by\n",
    "\n",
    "$$ g(x) = \\frac{1}{1+e^{-x}}, $$\n",
    "\n",
    "for $x \\in \\mathbb{R}$. The next two code blocks construct and plot this function."
   ]
  },
  {
   "cell_type": "code",
   "execution_count": 4,
   "metadata": {
    "execution": {
     "iopub.execute_input": "2022-07-25T09:39:11.766155Z",
     "iopub.status.busy": "2022-07-25T09:39:11.765780Z",
     "iopub.status.idle": "2022-07-25T09:39:11.773708Z",
     "shell.execute_reply": "2022-07-25T09:39:11.772548Z",
     "shell.execute_reply.started": "2022-07-25T09:39:11.766124Z"
    }
   },
   "outputs": [
    {
     "name": "stdout",
     "output_type": "stream",
     "text": [
      "logistic(0) = 0.5\n",
      "logistic([-5 -1  1  5]) = [0.00669285 0.26894142 0.73105858 0.99330715]\n"
     ]
    }
   ],
   "source": [
    "# Logistic function\n",
    "def logistic(x):\n",
    "    \"\"\"\n",
    "    Computes the logistic function applied to an input scalar/array\n",
    "    Args:\n",
    "        x (scalar/ndarray): scalar or numpy array of any size\n",
    "    Returns:\n",
    "        y (scalar/ndarray): logistic function applied to x, has the same shape as x\n",
    "    \"\"\"\n",
    "    y = 1 / (1 + np.exp(-x))\n",
    "    return y\n",
    "\n",
    "x, x_arr = 0, np.array([-5, -1, 1, 5])\n",
    "print(f\"logistic({x}) = {logistic(x)}\")\n",
    "print(f\"logistic({x_arr}) = {logistic(x_arr)}\")"
   ]
  },
  {
   "cell_type": "code",
   "execution_count": 5,
   "metadata": {
    "execution": {
     "iopub.execute_input": "2022-07-25T09:39:11.775993Z",
     "iopub.status.busy": "2022-07-25T09:39:11.775337Z",
     "iopub.status.idle": "2022-07-25T09:39:12.181110Z",
     "shell.execute_reply": "2022-07-25T09:39:12.179453Z",
     "shell.execute_reply.started": "2022-07-25T09:39:11.775950Z"
    }
   },
   "outputs": [
    {
     "data": {
      "image/png": "[encoded data removed]",
      "text/plain": [
       "<Figure size 540x432 with 1 Axes>"
      ]
     },
     "metadata": {
      "needs_background": "light"
     },
     "output_type": "display_data"
    }
   ],
   "source": [
    "# Plotting the logistic function\n",
    "plt.figure(figsize = (7.5, 6))\n",
    "x = np.linspace(-11, 11, 100)\n",
    "plt.plot(x, logistic(x), color = 'red')\n",
    "plt.xlabel(\"x\", fontsize = 14)\n",
    "plt.ylabel(\"g(x)\", fontsize = 14)\n",
    "plt.title(\"Standard logistic function\", fontsize = 14)\n",
    "plt.tight_layout()\n",
    "plt.show()"
   ]
  },
  {
   "cell_type": "markdown",
   "metadata": {},
   "source": [
    "# Log Loss"
   ]
  },
  {
   "cell_type": "markdown",
   "metadata": {},
   "source": [
    "The `loss function`, which corresponds to the *true value* and *predicted value* of a single observation. The `cost function` can be thought of as *expected loss* or *average loss* over a group of observations. Contrary to linear regression, which employs `squared loss`, logistic regression makes use of the `log loss` function, given by\n",
    "\n",
    "$$ L(y, y') = -y \\log\\left(y'\\right) - \\left(1 - y\\right) \\log\\left(1 - y'\\right), $$\n",
    "\n",
    "where $y$ is the true value of a binary target (taking values $0$ or $1$) and $y'$ is the prediction, which can be thought of as the predicted probability of $y$ being $1$. Observe that the loss is $0$, when the true value and predicted value agree with each other, i.e. $L(0, 0) = L(1, 1) = 0$. On the other hand, the loss explodes towards infinity if the predicted value approaches $1$ when the true value is $0$, or it approaches $0$ when the true value is $1$. Mathematically, $\\lim_{t \\to 1-} L(0, t) = \\lim_{t \\to 0+} L(1, t) = \\infty$. In the next couple of code blocks, we construct the function to compute log loss and plot it for $y = 0$ and $y = 1$. Since the true values (labels) are always $0$ or $1$, we do not need to pay heed to the behaviour of the function $L$ for other values of $y$."
   ]
  },
  {
   "cell_type": "code",
   "execution_count": 6,
   "metadata": {
    "execution": {
     "iopub.execute_input": "2022-07-25T09:39:12.183021Z",
     "iopub.status.busy": "2022-07-25T09:39:12.182662Z",
     "iopub.status.idle": "2022-07-25T09:39:12.191362Z",
     "shell.execute_reply": "2022-07-25T09:39:12.189885Z",
     "shell.execute_reply.started": "2022-07-25T09:39:12.182974Z"
    }
   },
   "outputs": [
    {
     "name": "stdout",
     "output_type": "stream",
     "text": [
      "log_loss(0, 0.6) = 0.916290731874155\n"
     ]
    }
   ],
   "source": [
    "# Log loss\n",
    "def log_loss(y, y_dash):\n",
    "    \"\"\"\n",
    "    Computes log loss for inputs true value (0 or 1) and predicted value (between 0 and 1)\n",
    "    Args:\n",
    "      y      (scalar): true value (0 or 1)\n",
    "      y_dash (scalar): predicted value (probability of y being 1)\n",
    "    Returns:\n",
    "      loss (float): nonnegative loss corresponding to y and y_dash\n",
    "    \"\"\"\n",
    "    loss = - (y * np.log(y_dash)) - ((1 - y) * np.log(1 - y_dash))\n",
    "    return loss\n",
    "\n",
    "y, y_dash = 0, 0.6\n",
    "print(f\"log_loss({y}, {y_dash}) = {log_loss(y, y_dash)}\")"
   ]
  },
  {
   "cell_type": "code",
   "execution_count": 7,
   "metadata": {
    "execution": {
     "iopub.execute_input": "2022-07-25T09:39:12.196430Z",
     "iopub.status.busy": "2022-07-25T09:39:12.195419Z",
     "iopub.status.idle": "2022-07-25T09:39:12.603381Z",
     "shell.execute_reply": "2022-07-25T09:39:12.602542Z",
     "shell.execute_reply.started": "2022-07-25T09:39:12.196393Z"
    }
   },
   "outputs": [
    {
     "data": {
      "image/png": "[encoded data removed]",
      "text/plain": [
       "<Figure size 1080x432 with 2 Axes>"
      ]
     },
     "metadata": {
      "needs_background": "light"
     },
     "output_type": "display_data"
    }
   ],
   "source": [
    "# Log loss for y = 0 and y = 1\n",
    "fig, ax = plt.subplots(1, 2, figsize = (15, 6), sharex = True, sharey = True)\n",
    "y_dash = np.linspace(0.0001, 0.9999, 100)\n",
    "ax[0].plot(y_dash, log_loss(0, y_dash), color = 'red')\n",
    "ax[0].set_title(\"y = 0\", fontsize = 14)\n",
    "ax[0].set_xlabel(\"y_dash\", fontsize = 14)\n",
    "ax[0].set_ylabel(\"log loss\", fontsize = 14)\n",
    "ax[1].plot(y_dash, log_loss(1, y_dash), color = 'red')\n",
    "ax[1].set_title(\"y = 1\", fontsize = 14)\n",
    "ax[1].set_xlabel(\"y_dash\", fontsize = 14)\n",
    "plt.tight_layout()\n",
    "plt.show()"
   ]
  },
  {
   "cell_type": "markdown",
   "metadata": {},
   "source": [
    "The plots sync with the intuition that loss should be minimum when the predicted value (probability) matches the true value $(0$ or $1)$, and should increase as the two values drift apart."
   ]
  },
  {
   "cell_type": "markdown",
   "metadata": {},
   "source": [
    "# Cost Function"
   ]
  },
  {
   "cell_type": "markdown",
   "metadata": {},
   "source": [
    "Let $\\mathbf{y} = (y_1, y_2, \\cdots, y_n)$ be the true values $(0$ or $1)$ and $\\mathbf{y'} = (y_1', y_2', \\cdots, y_n')$ be the corresponding predictions (probabilities). Then, the *cost function* is given by the average loss:\n",
    "\n",
    "$$ C(\\mathbf{y}, \\mathbf{y'}) = \\frac{1}{m}\\sum_{i = 1}^m L(y_i, y_i'). $$\n",
    "\n",
    "We construct the function to compute cost in the following two code blocks (the first one using for loop, the second one using vectorization). An important structural distinction from the log loss function is that here the arguments `y` and `y_dash` are vectors, not scalars."
   ]
  },
  {
   "cell_type": "code",
   "execution_count": 8,
   "metadata": {
    "execution": {
     "iopub.execute_input": "2022-07-25T09:39:12.607339Z",
     "iopub.status.busy": "2022-07-25T09:39:12.604356Z",
     "iopub.status.idle": "2022-07-25T09:39:12.617060Z",
     "shell.execute_reply": "2022-07-25T09:39:12.615775Z",
     "shell.execute_reply.started": "2022-07-25T09:39:12.607290Z"
    }
   },
   "outputs": [
    {
     "name": "stdout",
     "output_type": "stream",
     "text": [
      "cost_func([0 1 0], [0.4  0.6  0.25]) = 0.43644443999458743\n"
     ]
    }
   ],
   "source": [
    "# Cost function - using for loop\n",
    "def cost_func(y, y_dash):\n",
    "    \"\"\"\n",
    "    Computes log loss for inputs true value (0 or 1) and predicted value (between 0 and 1)\n",
    "    Args:\n",
    "      y      (array_like, shape (m,)): array of true values (0 or 1)\n",
    "      y_dash (array_like, shape (m,)): array of predicted values (probability of y being 1)\n",
    "    Returns:\n",
    "      cost (float): nonnegative cost corresponding to y and y_dash\n",
    "    \"\"\"\n",
    "    assert len(y) == len(y_dash), \"Length of true values and length of predicted values do not match\"\n",
    "    m = len(y)\n",
    "    cost = 0\n",
    "    for i in range(m):\n",
    "        cost += log_loss(y[i], y_dash[i])\n",
    "    cost = cost / m\n",
    "    return cost\n",
    "\n",
    "y, y_dash = np.array([0, 1, 0]), np.array([0.4, 0.6, 0.25])\n",
    "print(f\"cost_func({y}, {y_dash}) = {cost_func(y, y_dash)}\")"
   ]
  },
  {
   "cell_type": "code",
   "execution_count": 9,
   "metadata": {
    "execution": {
     "iopub.execute_input": "2022-07-25T09:39:12.619303Z",
     "iopub.status.busy": "2022-07-25T09:39:12.618492Z",
     "iopub.status.idle": "2022-07-25T09:39:12.633030Z",
     "shell.execute_reply": "2022-07-25T09:39:12.631867Z",
     "shell.execute_reply.started": "2022-07-25T09:39:12.619261Z"
    }
   },
   "outputs": [
    {
     "name": "stdout",
     "output_type": "stream",
     "text": [
      "cost_func_vec([0 1 0], [0.4  0.6  0.25]) = 0.43644443999458743\n"
     ]
    }
   ],
   "source": [
    "# Cost function - using vectorization\n",
    "def cost_func_vec(y, y_dash):\n",
    "    \"\"\"\n",
    "    Computes log loss for inputs true value (0 or 1) and predicted value (between 0 and 1)\n",
    "    Args:\n",
    "      y      (array_like, shape (m,)): array of true values (0 or 1)\n",
    "      y_dash (array_like, shape (m,)): array of predicted values (probability of y being 1)\n",
    "    Returns:\n",
    "      cost (float): nonnegative cost corresponding to y and y_dash\n",
    "    \"\"\"\n",
    "    assert len(y) == len(y_dash), \"Length of true values and length of predicted values do not match\"\n",
    "    m = len(y)\n",
    "    loss_vec = np.array([log_loss(y[i], y_dash[i]) for i in range(m)])\n",
    "    cost = np.dot(loss_vec, np.ones(m)) / m\n",
    "    return cost\n",
    "\n",
    "y, y_dash = np.array([0, 1, 0]), np.array([0.4, 0.6, 0.25])\n",
    "print(f\"cost_func_vec({y}, {y_dash}) = {cost_func(y, y_dash)}\")"
   ]
  },
  {
   "cell_type": "markdown",
   "metadata": {},
   "source": [
    "Let us assume that we want to predict $y$ based on $n$ features. In this setup, a logistic regression model is characterized by $n+1$ parameters:\n",
    "\n",
    "- weight parameters $\\mathbf{w} = (w_1, w_2, \\cdots, w_n)$\n",
    "- bias parameter $b$\n",
    "\n",
    "Note that, the [dot product](https://en.wikipedia.org/wiki/Dot_product) of two vectors $\\mathbf{a} = (a_1, a_2, \\cdots, a_n)$ and $\\mathbf{b} = (b_1, b_2, \\cdots, b_n)$ is given by $\\mathbf{a} \\cdot \\mathbf{b} = \\sum_{i=1}^n a_ib_i$. It is a scalar value and evidently, $\\mathbf{a} \\cdot \\mathbf{b} = \\mathbf{b} \\cdot \\mathbf{a}$. Given the realized values of $n$ features $\\mathbf{x} = (x_1, x_2, \\cdots, x_n)$, the model feeds $\\mathbf{x} \\cdot \\mathbf{w} + b$ to the logistic function $g$, and projects the output as the predicted probability of $y = 1$. Concretely, we have\n",
    "\n",
    "$$ y' = g\\left(\\mathbf{x} \\cdot \\mathbf{w} + b\\right) = \\frac{1}{1 + e^{-\\left(\\mathbf{x} \\cdot \\mathbf{w} + b\\right)}}. \\tag{1} $$\n",
    "\n",
    "Let us consider the situation of $m$ observations, with the $i$th observation having feature values $\\mathbf{x_i} = (x_{i,1}, x_{i,2}, \\cdots, x_{i,n})$, true target value $y_i$ and predicted probabilities $y_i' = g\\left(\\mathbf{x_i} \\cdot \\mathbf{w} + b\\right)$. Stacking them up, we obtain the feature matrix $\\mathbf{X}$, target vector $\\mathbf{y}$ and the vector of predicted probability $\\mathbf{y'}$, as follows:\n",
    "\n",
    "$$ \\mathbf{X} = \\begin{pmatrix}\n",
    "\\mathbf{x_1} \\newline\n",
    "\\mathbf{x_2} \\newline\n",
    "\\vdots \\newline\n",
    "\\mathbf{x_m}\n",
    "\\end{pmatrix} = \\begin{pmatrix}\n",
    "x_{1,1} & x_{1,2} & \\cdots & x_{1,n} \\newline\n",
    "x_{2,1} & x_{2,2} & \\cdots & x_{2,n} \\newline\n",
    "\\vdots & \\vdots & \\ddots & \\vdots \\newline\n",
    "x_{m,1} & x_{m,2} & \\cdots & x_{m,n}\n",
    "\\end{pmatrix},\\;\\;\\;\\;\n",
    "\\mathbf{y} = \\begin{pmatrix}\n",
    "y_1 \\newline\n",
    "y_2 \\newline\n",
    "\\vdots \\newline\n",
    "y_m\n",
    "\\end{pmatrix},\\;\\;\\;\\;\n",
    "\\mathbf{y'} = \\begin{pmatrix}\n",
    "g\\left(\\mathbf{x_1} \\cdot \\mathbf{w} + b\\right) \\newline\n",
    "g\\left(\\mathbf{x_2} \\cdot \\mathbf{w} + b\\right) \\newline\n",
    "\\vdots \\newline\n",
    "g\\left(\\mathbf{x_n} \\cdot \\mathbf{w} + b\\right)\n",
    "\\end{pmatrix}. \\tag{2} $$\n",
    "\n",
    "Now, we are in a position to rewrite the cost function in terms of model parameters:\n",
    "\n",
    "$$ J\\left(\\mathbf{w}, b\\right) := C\\left(\\mathbf{y}, \\mathbf{y'} \\,\\vert\\, \\mathbf{X}, \\mathbf{w}, b \\right) = \\frac{1}{m}\\sum_{i = 1}^m L\\left(y_i, \\frac{1}{1 + e^{-\\left(\\mathbf{x_i} \\cdot \\mathbf{w} + b\\right)}}\\right) = \\frac{1}{m}\\sum_{i = 1}^m \\left[ -y_i \\log\\left(\\frac{1}{1 + e^{-\\left(\\mathbf{x_i} \\cdot \\mathbf{w} + b\\right)}}\\right) - \\left(1 - y_i\\right) \\log\\left(1 - \\frac{1}{1 + e^{-\\left(\\mathbf{x_i} \\cdot \\mathbf{w} + b\\right)}}\\right) \\right]. \\tag{3} $$\n",
    "\n",
    "Note that $J\\left(\\mathbf{0}, 0\\right) = \\log{2}$ for every input data $\\mathbf{X}$ (features) and $\\mathbf{y}$ (target). We construct a function to compute the cost, given data and model parameters, in the general setup of $n$ features (first using for loop, then using vectorization). Then, we visualize the cost function for a simplified setup, consisting of a single feature $x$. In this setup, the model involves two parameters only, the weight parameter $w$ and the bias parameter $b$."
   ]
  },
  {
   "cell_type": "code",
   "execution_count": 10,
   "metadata": {
    "execution": {
     "iopub.execute_input": "2022-07-25T09:39:12.639060Z",
     "iopub.status.busy": "2022-07-25T09:39:12.637865Z",
     "iopub.status.idle": "2022-07-25T09:39:12.656507Z",
     "shell.execute_reply": "2022-07-25T09:39:12.655399Z",
     "shell.execute_reply.started": "2022-07-25T09:39:12.638978Z"
    }
   },
   "outputs": [
    {
     "name": "stdout",
     "output_type": "stream",
     "text": [
      "cost_logreg(X = [[ 10  20]\n",
      " [-10  10]], y = [1 0], w = [0.5 1.5], b = 1) = 5.500008350784906\n"
     ]
    }
   ],
   "source": [
    "# Function to compute cost function in terms of model parameters - using for loops\n",
    "def cost_logreg(X, y, w, b):\n",
    "    \"\"\"\n",
    "    Computes the cost function, given data and model parameters\n",
    "    Args:\n",
    "      X (ndarray, shape (m,n))  : data on features, m observations with n features\n",
    "      y (array_like, shape (m,)): array of true values (0 or 1) of target\n",
    "      w (array_like, shape (n,)): weight parameters of the model      \n",
    "      b (float)                 : bias parameter of the model\n",
    "    Returns:\n",
    "      cost (float): nonnegative cost corresponding to y and y_dash \n",
    "    \"\"\"\n",
    "    m, n = X.shape\n",
    "    assert len(y) == m, \"Number of feature observations and number of target observations do not match\"\n",
    "    assert len(w) == n, \"Number of features and number of weight parameters do not match\"\n",
    "    z = []\n",
    "    for i in range(m):\n",
    "        s = 0\n",
    "        for j in range(n):\n",
    "            s += X[i, j] * w[j]\n",
    "        z.append(s + b)\n",
    "    z = np.array(z)\n",
    "    y_dash = logistic(z)\n",
    "    cost = cost_func(y, y_dash)\n",
    "    return cost\n",
    "\n",
    "X, y, w, b = np.array([[10, 20], [-10, 10]]), np.array([1, 0]), np.array([0.5, 1.5]), 1\n",
    "print(f\"cost_logreg(X = {X}, y = {y}, w = {w}, b = {b}) = {cost_logreg(X, y, w, b)}\")"
   ]
  },
  {
   "cell_type": "markdown",
   "metadata": {},
   "source": [
    "The code for logistic function $g$ is constructed in such a way that, if applied on an array, it acts separately on each component and returns an array. Using this, it follows from $(2)$ that\n",
    "\n",
    "$$ \\mathbf{y'} = g\\left(\\mathbf{X} \\mathbf{w} + b \\mathbf{1} \\right), $$\n",
    "\n",
    "where $\\mathbf{1}$ has the same dimension as that of $\\mathbf{X} \\mathbf{w}$. We use [matrix multiplication](https://en.wikipedia.org/wiki/Matrix_multiplication) in computing $\\mathbf{X} \\mathbf{w}$, [scalar multiplication of a vector](https://en.wikipedia.org/wiki/Scalar_multiplication) in computing $b \\mathbf{1}$ and add them up using [vector addition](https://en.wikipedia.org/wiki/Euclidean_vector#Addition_and_subtraction). This representation leads to a much faster vectorized implementation of computing the cost function in terms of model parameters."
   ]
  },
  {
   "cell_type": "code",
   "execution_count": 11,
   "metadata": {
    "execution": {
     "iopub.execute_input": "2022-07-25T09:39:12.658880Z",
     "iopub.status.busy": "2022-07-25T09:39:12.657940Z",
     "iopub.status.idle": "2022-07-25T09:39:12.674052Z",
     "shell.execute_reply": "2022-07-25T09:39:12.672869Z",
     "shell.execute_reply.started": "2022-07-25T09:39:12.658834Z"
    }
   },
   "outputs": [
    {
     "name": "stdout",
     "output_type": "stream",
     "text": [
      "cost_logreg_vec(X = [[ 10  20]\n",
      " [-10  10]], y = [1 0], w = [0.5 1.5], b = 1) = 5.500008350784906\n"
     ]
    }
   ],
   "source": [
    "# Function to compute cost function in terms of model parameters - using vectorization\n",
    "def cost_logreg_vec(X, y, w, b):\n",
    "    \"\"\"\n",
    "    Computes the cost function, given data and model parameters\n",
    "    Args:\n",
    "      X (ndarray, shape (m,n))  : data on features, m observations with n features\n",
    "      y (array_like, shape (m,)): array of true values of target (0 or 1)\n",
    "      w (array_like, shape (n,)): weight parameters of the model      \n",
    "      b (float)                 : bias parameter of the model\n",
    "    Returns:\n",
    "      cost (float): nonnegative cost corresponding to y and y_dash \n",
    "    \"\"\"\n",
    "    m, n = X.shape\n",
    "    assert len(y) == m, \"Number of feature observations and number of target observations do not match\"\n",
    "    assert len(w) == n, \"Number of features and number of weight parameters do not match\"\n",
    "    z = np.matmul(X, w) + (b * np.ones(m))\n",
    "    y_dash = logistic(z)\n",
    "    cost = cost_func_vec(y, y_dash)\n",
    "    return cost\n",
    "\n",
    "X, y, w, b = np.array([[10, 20], [-10, 10]]), np.array([1, 0]), np.array([0.5, 1.5]), 1\n",
    "print(f\"cost_logreg_vec(X = {X}, y = {y}, w = {w}, b = {b}) = {cost_logreg(X, y, w, b)}\")"
   ]
  },
  {
   "cell_type": "code",
   "execution_count": 12,
   "metadata": {
    "execution": {
     "iopub.execute_input": "2022-07-25T09:39:12.676392Z",
     "iopub.status.busy": "2022-07-25T09:39:12.675223Z",
     "iopub.status.idle": "2022-07-25T09:39:13.088563Z",
     "shell.execute_reply": "2022-07-25T09:39:13.087543Z",
     "shell.execute_reply.started": "2022-07-25T09:39:12.676349Z"
    }
   },
   "outputs": [
    {
     "data": {
      "text/plain": [
       "[Text(0.5, 0, 'w'), Text(0.5, 0.5, 'b')]"
      ]
     },
     "execution_count": 12,
     "metadata": {},
     "output_type": "execute_result"
    },
    {
     "data": {
      "image/png": "[encoded data removed]",
      "text/plain": [
       "<Figure size 720x720 with 1 Axes>"
      ]
     },
     "metadata": {
      "needs_background": "light"
     },
     "output_type": "display_data"
    }
   ],
   "source": [
    "# Plotting the cost function against model parameters\n",
    "from mpl_toolkits.mplot3d import Axes3D\n",
    "w, b = np.meshgrid(np.linspace(-0.1, 0.1, 21), np.linspace(-1, 1, 21))\n",
    "X = np.array([1.56, 0.76 , 0.08, 9.71, 4.65, 4.35, 7.34, 0.91, 9.82, 9.05]).reshape((10, 1))\n",
    "y = np.array([0, 1, 0, 0, 0, 0, 1, 1, 1, 0])\n",
    "cost = np.array([[cost_logreg_vec(X, y, np.array([w0]), b0) for b0 in b[:, 0]] for w0 in w[0]])\n",
    "fig = plt.figure(figsize = (10, 10))\n",
    "ax = plt.axes(projection = '3d')\n",
    "ax.plot_surface(w, b, cost)\n",
    "ax.set(xlabel = \"w\", ylabel = \"b\")"
   ]
  },
  {
   "cell_type": "markdown",
   "metadata": {},
   "source": [
    "The prediction $y'$ in $(1)$ can be converted to a decision by using a threshold value. For instance, suppose we take the threshold to be $0.5$. Then, we may classify the observation to class $1$ if $y' \\geq 0.5$, and to class $0$ otherwise. The problem, however, is that we do not know the model parameters $\\mathbf{w}$ and $b$, and hence cannot compute $y'$ directly. First, we have to fit the model by finding the best fitting parameters. Observe that, given the training data, $C\\left(\\mathbf{y}, \\mathbf{y'}\\right)$ depends on $\\mathbf{w}$ and $b$ only. A reasonable strategy, therefore, is:\n",
    "\n",
    "$$ \\text{To minimise } J\\left(\\mathbf{w}, b\\right), \\text{ with respect to } \\mathbf{w} \\text{ and } b. $$\n",
    "\n",
    "We shall employ the [gradient descent](https://en.wikipedia.org/wiki/Gradient_descent) [algorithm](https://en.wikipedia.org/wiki/Algorithm) to solve this [optimization](https://en.wikipedia.org/wiki/Mathematical_optimization) problem."
   ]
  },
  {
   "cell_type": "markdown",
   "metadata": {},
   "source": [
    "# Gradient Descent"
   ]
  },
  {
   "cell_type": "markdown",
   "metadata": {},
   "source": [
    "**What is it?** The gradient descent algorithm is a [first order](https://en.wikipedia.org/wiki/Category:First_order_methods) [iterative](https://en.wikipedia.org/wiki/Iterative_method) optimization algorithm for finding a [local minimum](https://en.wikipedia.org/wiki/Maxima_and_minima) of a differentiable function. The idea is to take repeated steps in the opposite direction of the [gradient](https://en.wikipedia.org/wiki/Gradient) (or approximate gradient) of the function at the current point, because this is the direction of steepest descent. Conversely, stepping in the direction of the gradient will lead to a local maximum of that function. This procedure is then known as *gradient ascent*.\n",
    "\n",
    "**History.** Gradient descent is generally attributed to [Augustin-Louis Cauchy](https://en.wikipedia.org/wiki/Augustin-Louis_Cauchy), who first suggested it in 1847. [Jacques Hadamard](https://en.wikipedia.org/wiki/Jacques_Hadamard) independently proposed a similar method in 1907. Its convergence properties for non-linear optimization problems were first studied by [Haskell Curry](https://en.wikipedia.org/wiki/Haskell_Curry) in 1944, with the method becoming increasingly well-studied and used in the following decades.\n",
    "\n",
    "**The algorithm.** In the context of minimising the cost function $J$, with respect to the model parameters $\\mathbf{w}$ and $b$, the gradient descent algorithm is given by:\n",
    "\n",
    "$$ \\begin{align*}\n",
    "& \\text{repeat until convergence:}\\; \\{ \\newline\n",
    "& w_j := w_j -  \\alpha \\frac{\\partial J(\\mathbf{w},b)}{\\partial w_j},\\; \\text{ for } j = 1, 2, \\ldots, n; \\newline\n",
    "& b := b -  \\alpha \\frac{\\partial J(\\mathbf{w}, b)}{\\partial b}. \\tag{4} \\newline\n",
    "& \\}\n",
    "\\end{align*} $$\n",
    "\n",
    "where $\\alpha$ is the [learning rate](https://en.wikipedia.org/wiki/Learning_rate), and the parameters $\\mathbf{w} = (w_1, w_2, \\cdots, w_n)$ and $b$ are updated simultaniously in each iteration.\n",
    "\n",
    "**Computing gradient.** Before we can implement the gradient descent algorithm, we need to compute the gradients first! From $(3)$, we can compute the partial derivatives of $J$ with respect to $w_j$ and $b$ as follows:\n",
    "\n",
    "$$ \\begin{align*}\n",
    "& \\frac{\\partial J(\\mathbf{w},b)}{\\partial w_j} = \\frac{1}{m} \\sum\\limits_{i = 1}^m \\left(\\frac{1}{1 + e^{-\\left(\\mathbf{x_i} \\cdot \\mathbf{w} + b\\right)}} - y_i\\right) x_{i,j},\\;\\; \\text{ for } j = 1, 2, \\ldots, n; \\newline\n",
    "& \\frac{\\partial J(\\mathbf{w}, b)}{\\partial b} = \\frac{1}{m} \\sum\\limits_{i = 1}^m \\left(\\frac{1}{1 + e^{-\\left(\\mathbf{x_i} \\cdot \\mathbf{w} + b\\right)}} - y_i\\right).\n",
    "\\end{align*} $$\n",
    "\n",
    "The next code blocks construct a function to compute these gradients, first using for loops, then using vectorization."
   ]
  },
  {
   "cell_type": "code",
   "execution_count": 13,
   "metadata": {
    "execution": {
     "iopub.execute_input": "2022-07-25T09:39:13.090235Z",
     "iopub.status.busy": "2022-07-25T09:39:13.089815Z",
     "iopub.status.idle": "2022-07-25T09:39:13.104792Z",
     "shell.execute_reply": "2022-07-25T09:39:13.103571Z",
     "shell.execute_reply.started": "2022-07-25T09:39:13.090189Z"
    }
   },
   "outputs": [
    {
     "name": "stdout",
     "output_type": "stream",
     "text": [
      "grad_logreg(X = [[ 10  20]\n",
      " [-10  10]], y = [1 0], w = [0.5 1.5], b = 1) = (array([-4.99991649,  4.99991649]), 0.4999916492890759)\n"
     ]
    }
   ],
   "source": [
    "# Function to compute gradients of the cost function with respect to model parameters - using for loops\n",
    "def grad_logreg(X, y, w, b):\n",
    "    \"\"\"\n",
    "    Computes gradients of the cost function with respect to model parameters\n",
    "    Args:\n",
    "      X (ndarray, shape (m,n))  : data on features, m observations with n features\n",
    "      y (array_like, shape (m,)): array of true values of target (0 or 1)\n",
    "      w (array_like, shape (n,)): weight parameters of the model      \n",
    "      b (float)                 : bias parameter of the model\n",
    "    Returns:\n",
    "      grad_w (array_like, shape (n,)): gradients of the cost function with respect to the weight parameters\n",
    "      grad_b (float)                 : gradient of the cost function with respect to the bias parameter\n",
    "    \"\"\"\n",
    "    m, n = X.shape\n",
    "    assert len(y) == m, \"Number of feature observations and number of target observations do not match\"\n",
    "    assert len(w) == n, \"Number of features and number of weight parameters do not match\"\n",
    "    grad_w, grad_b = np.zeros(n), 0\n",
    "    for i in range(m):\n",
    "        s = 0\n",
    "        for j in range(n):\n",
    "            s += X[i, j] * w[j]\n",
    "        y_dash_i = logistic(s + b)\n",
    "        for j in range(n):\n",
    "            grad_w[j] += (y_dash_i  - y[i]) * X[i,j]\n",
    "        grad_b += y_dash_i  - y[i]\n",
    "    grad_w, grad_b = grad_w / m, grad_b / m\n",
    "    return grad_w, grad_b\n",
    "\n",
    "X, y, w, b = np.array([[10, 20], [-10, 10]]), np.array([1, 0]), np.array([0.5, 1.5]), 1\n",
    "print(f\"grad_logreg(X = {X}, y = {y}, w = {w}, b = {b}) = {grad_logreg(X, y, w, b)}\")"
   ]
  },
  {
   "cell_type": "code",
   "execution_count": 14,
   "metadata": {
    "execution": {
     "iopub.execute_input": "2022-07-25T09:39:13.107319Z",
     "iopub.status.busy": "2022-07-25T09:39:13.106384Z",
     "iopub.status.idle": "2022-07-25T09:39:13.126350Z",
     "shell.execute_reply": "2022-07-25T09:39:13.124607Z",
     "shell.execute_reply.started": "2022-07-25T09:39:13.107272Z"
    }
   },
   "outputs": [
    {
     "name": "stdout",
     "output_type": "stream",
     "text": [
      "grad_logreg_vec(X = [[ 10  20]\n",
      " [-10  10]], y = [1 0], w = [0.5 1.5], b = 1) = (array([-4.99991649,  4.99991649]), 0.4999916492890759)\n"
     ]
    }
   ],
   "source": [
    "# Function to compute gradients of the cost function with respect to model parameters - using vectorization\n",
    "def grad_logreg_vec(X, y, w, b): \n",
    "    \"\"\"\n",
    "    Computes gradients of the cost function with respect to model parameters\n",
    "    Args:\n",
    "      X (ndarray, shape (m,n))  : data on features, m observations with n features\n",
    "      y (array_like, shape (m,)): array of true values of target (0 or 1)\n",
    "      w (array_like, shape (n,)): weight parameters of the model      \n",
    "      b (float)                 : bias parameter of the model\n",
    "    Returns:\n",
    "      grad_w (array_like, shape (n,)): gradients of the cost function with respect to the weight parameters\n",
    "      grad_b (float)                 : gradient of the cost function with respect to the bias parameter\n",
    "    \"\"\"\n",
    "    m, n = X.shape\n",
    "    assert len(y) == m, \"Number of feature observations and number of target observations do not match\"\n",
    "    assert len(w) == n, \"Number of features and number of weight parameters do not match\"\n",
    "    y_dash = logistic(np.matmul(X, w) + b * np.ones(m))\n",
    "    grad_w = np.matmul(y_dash - y, X) / m\n",
    "    grad_b = np.dot(y_dash - y, np.ones(m)) / m\n",
    "    return grad_w, grad_b\n",
    "\n",
    "X, y, w, b = np.array([[10, 20], [-10, 10]]), np.array([1, 0]), np.array([0.5, 1.5]), 1\n",
    "print(f\"grad_logreg_vec(X = {X}, y = {y}, w = {w}, b = {b}) = {grad_logreg_vec(X, y, w, b)}\")"
   ]
  },
  {
   "cell_type": "markdown",
   "metadata": {},
   "source": [
    "Armed with the required functions, we can now implement the gradient descent algorithm, given in $(4)$. "
   ]
  },
  {
   "cell_type": "code",
   "execution_count": 15,
   "metadata": {
    "execution": {
     "iopub.execute_input": "2022-07-25T09:39:13.128326Z",
     "iopub.status.busy": "2022-07-25T09:39:13.127716Z",
     "iopub.status.idle": "2022-07-25T09:39:20.676562Z",
     "shell.execute_reply": "2022-07-25T09:39:20.675403Z",
     "shell.execute_reply.started": "2022-07-25T09:39:13.128295Z"
    }
   },
   "outputs": [
    {
     "data": {
      "application/vnd.jupyter.widget-view+json": {
       "model_id": "c42c2bce861a4508bed8f8905bdf928c",
       "version_major": 2,
       "version_minor": 0
      },
      "text/plain": [
       "  0%|          | 0/100000 [00:00<?, ?it/s]"
      ]
     },
     "metadata": {},
     "output_type": "display_data"
    },
    {
     "name": "stdout",
     "output_type": "stream",
     "text": [
      "Iteration      0:    Cost  0.6928,    Params  [array([0.005 , 0.0025]), 0.0]\n",
      "Iteration  10000:    Cost  0.0867,    Params  [array([19.30073125,  9.43918518]), -1.4078696585361676]\n",
      "Iteration  20000:    Cost  0.0430,    Params  [array([25.11290735, 12.28127422]), -1.8345297190719223]\n",
      "Iteration  30000:    Cost  0.0283,    Params  [array([28.51960605, 13.947125  ]), -2.084520137444322]\n",
      "Iteration  40000:    Cost  0.0211,    Params  [array([30.9258698 , 15.12377399]), -2.261072754000601]\n",
      "Iteration  50000:    Cost  0.0168,    Params  [array([32.78441957, 16.03259549]), -2.397428663482232]\n",
      "Iteration  60000:    Cost  0.0139,    Params  [array([34.29765304, 16.77255979]), -2.5084448658725664]\n",
      "Iteration  70000:    Cost  0.0119,    Params  [array([35.57340822, 17.39639871]), -2.602035975617821]\n",
      "Iteration  80000:    Cost  0.0104,    Params  [array([36.67589743, 17.93551157]), -2.682914282617459]\n",
      "Iteration  90000:    Cost  0.0092,    Params  [array([37.64642667, 18.4100967 ]), -2.7541108549220774]\n",
      "Iteration  99999:    Cost  0.0083,    Params  [array([38.51304248, 18.83386869]), -2.8176836626325836]\n"
     ]
    }
   ],
   "source": [
    "# Gradient descent algorithm for logistic regression\n",
    "def grad_desc(X, y, w, b, alpha, n_iter, show_cost = True, show_params = False): \n",
    "    \"\"\"\n",
    "    Implements batch gradient descent algorithm to learn and update model parameters\n",
    "    with prespecified number of interations and learning rate\n",
    "    Args:\n",
    "      X (ndarray, shape (m,n))  : data on features, m observations with n features\n",
    "      y (array_like, shape (m,)): true values of target (0 or 1)\n",
    "      w (array_like, shape (n,)): initial value of weight parameters\n",
    "      b (scalar)                : initial value of bias parameter\n",
    "      cost_func                 : function to compute cost\n",
    "      grad_func                 : function to compute gradients of cost with respect to model parameters\n",
    "      alpha (float)             : learning rate\n",
    "      n_iter (int)              : number of iterations\n",
    "    Returns:\n",
    "      w (array_like, shape (n,)): updated values of weight parameters\n",
    "      b (scalar)                : updated value of bias parameter\n",
    "    \"\"\"\n",
    "    m, n = X.shape\n",
    "    assert len(y) == m, \"Number of feature observations and number of target observations do not match\"\n",
    "    assert len(w) == n, \"Number of features and number of weight parameters do not match\"\n",
    "    cost_history, params_history = [], []\n",
    "    for i, j in itertools.product(range(n_iter), range(1)):\n",
    "        grad_w, grad_b = grad_logreg_vec(X, y, w, b)   \n",
    "        w += - alpha * grad_w\n",
    "        b += - alpha * grad_b\n",
    "        cost =  cost_logreg_vec(X, y, w, b)\n",
    "        cost_history.append(cost)\n",
    "        params_history.append([w, b])\n",
    "        if show_cost == True and show_params == False and (i % math.ceil(n_iter / 10) == 0 or i == n_iter - 1):\n",
    "            print(f\"Iteration {i:6}:    Cost  {float(cost_history[i]):3.4f}\")\n",
    "        if show_cost == True and show_params == True and (i % math.ceil(n_iter / 10) == 0 or i == n_iter - 1):\n",
    "            print(f\"Iteration {i:6}:    Cost  {float(cost_history[i]):3.4f},    Params  {params_history[i]}\")\n",
    "    return w, b, cost_history, params_history\n",
    "\n",
    "X, y, w, b, alpha, n_iter = np.array([[0.1, 0.2], [-0.1, 0.1]]), np.array([1, 0]), np.array([0., 0.]), 0., 0.1, 100000\n",
    "w_out, b_out, cost_history, params_history = grad_desc(X, y, w, b, alpha, n_iter, show_cost = True, show_params = True)"
   ]
  },
  {
   "cell_type": "code",
   "execution_count": 16,
   "metadata": {
    "execution": {
     "iopub.execute_input": "2022-07-25T09:39:20.678506Z",
     "iopub.status.busy": "2022-07-25T09:39:20.678209Z",
     "iopub.status.idle": "2022-07-25T09:39:20.978806Z",
     "shell.execute_reply": "2022-07-25T09:39:20.977728Z",
     "shell.execute_reply.started": "2022-07-25T09:39:20.678480Z"
    }
   },
   "outputs": [
    {
     "data": {
      "image/png": "[encoded data removed]",
      "text/plain": [
       "<Figure size 648x432 with 1 Axes>"
      ]
     },
     "metadata": {
      "needs_background": "light"
     },
     "output_type": "display_data"
    }
   ],
   "source": [
    "# Plotting cost over iteration\n",
    "plt.figure(figsize = (9, 6))\n",
    "plt.plot(cost_history)\n",
    "plt.xlabel(\"Iteration\", fontsize = 14)\n",
    "plt.ylabel(\"Cost\", fontsize = 14)\n",
    "plt.title(\"Cost vs Iteration\", fontsize = 14)\n",
    "plt.tight_layout()\n",
    "plt.show()"
   ]
  },
  {
   "cell_type": "markdown",
   "metadata": {},
   "source": [
    "# Preprocessing"
   ]
  },
  {
   "cell_type": "markdown",
   "metadata": {},
   "source": [
    "The columns `EventId` and `Weight` will not be used in this notebook. Thus we drop these columns. Even though there are no `NaN` values in the dataset, we observe that several columns unnaturally contain the value $-999$ for many observations. We suspect that these are missing/corrupted values that have been replaced with $-999$ and we convert them to `np.nan`. We shall impute these values after *train-test split*. Furthermore, we encode the `Label` column as follows: $b \\mapsto 0$ and $s \\mapsto 1$."
   ]
  },
  {
   "cell_type": "code",
   "execution_count": 17,
   "metadata": {
    "execution": {
     "iopub.execute_input": "2022-07-25T09:39:20.980407Z",
     "iopub.status.busy": "2022-07-25T09:39:20.980099Z",
     "iopub.status.idle": "2022-07-25T09:39:21.127482Z",
     "shell.execute_reply": "2022-07-25T09:39:21.126590Z",
     "shell.execute_reply.started": "2022-07-25T09:39:20.980380Z"
    }
   },
   "outputs": [],
   "source": [
    "# Dropping unnecessary columns\n",
    "data.drop(['EventId', 'Weight'], axis = 1, inplace = True)\n",
    "\n",
    "# Replacing -999 with nan\n",
    "data.replace(to_replace = -999, value = np.nan, inplace = True)\n",
    "\n",
    "# Encoding the 'Label' column\n",
    "label_dict = {'b': 0, 's': 1}\n",
    "data.replace({'Label': label_dict}, inplace = True)"
   ]
  },
  {
   "cell_type": "markdown",
   "metadata": {},
   "source": [
    "Next, we split `data` into two parts:\n",
    "\n",
    "- `data_train` : The portion of data that we use to train the models\n",
    "- `data_test` : The portion of data that we use to test or evaluate the models"
   ]
  },
  {
   "cell_type": "code",
   "execution_count": 18,
   "metadata": {
    "execution": {
     "iopub.execute_input": "2022-07-25T09:39:21.129289Z",
     "iopub.status.busy": "2022-07-25T09:39:21.128774Z",
     "iopub.status.idle": "2022-07-25T09:39:21.214120Z",
     "shell.execute_reply": "2022-07-25T09:39:21.213000Z",
     "shell.execute_reply.started": "2022-07-25T09:39:21.129256Z"
    }
   },
   "outputs": [],
   "source": [
    "# Train-test split\n",
    "data_train, data_test = train_test_split(data, test_size = 0.2, random_state = 40)"
   ]
  },
  {
   "cell_type": "markdown",
   "metadata": {},
   "source": [
    "Next, we identify $11$ columns with missing values. Among them, $10$ columns have more than $30\\%$ data missing, and hence we shall discard them. The column `DER_mass_MMC` has about $15.25\\%$ data missing. We shall impute the missing values in this column by the median of the rest of the values in the column."
   ]
  },
  {
   "cell_type": "code",
   "execution_count": 19,
   "metadata": {
    "execution": {
     "iopub.execute_input": "2022-07-25T09:39:21.215821Z",
     "iopub.status.busy": "2022-07-25T09:39:21.215511Z",
     "iopub.status.idle": "2022-07-25T09:39:21.256629Z",
     "shell.execute_reply": "2022-07-25T09:39:21.255817Z",
     "shell.execute_reply.started": "2022-07-25T09:39:21.215793Z"
    }
   },
   "outputs": [
    {
     "data": {
      "text/plain": [
       "DER_deltaeta_jet_jet      0.709828\n",
       "DER_mass_jet_jet          0.709828\n",
       "DER_prodeta_jet_jet       0.709828\n",
       "DER_lep_eta_centrality    0.709828\n",
       "PRI_jet_subleading_pt     0.709828\n",
       "PRI_jet_subleading_eta    0.709828\n",
       "PRI_jet_subleading_phi    0.709828\n",
       "PRI_jet_leading_pt        0.399652\n",
       "PRI_jet_leading_eta       0.399652\n",
       "PRI_jet_leading_phi       0.399652\n",
       "DER_mass_MMC              0.152456\n",
       "dtype: float64"
      ]
     },
     "execution_count": 19,
     "metadata": {},
     "output_type": "execute_result"
    }
   ],
   "source": [
    "# Columns with missing values with respective proportions\n",
    "(data.isna().sum()[data.isna().sum() > 0] / len(data)).sort_values(ascending = False)"
   ]
  },
  {
   "cell_type": "code",
   "execution_count": 20,
   "metadata": {
    "execution": {
     "iopub.execute_input": "2022-07-25T09:39:21.258426Z",
     "iopub.status.busy": "2022-07-25T09:39:21.257910Z",
     "iopub.status.idle": "2022-07-25T09:39:21.282159Z",
     "shell.execute_reply": "2022-07-25T09:39:21.281170Z",
     "shell.execute_reply.started": "2022-07-25T09:39:21.258391Z"
    }
   },
   "outputs": [
    {
     "name": "stderr",
     "output_type": "stream",
     "text": [
      "/home/diego/anaconda3/lib/python3.8/site-packages/pandas/core/frame.py:4308: SettingWithCopyWarning: \n",
      "A value is trying to be set on a copy of a slice from a DataFrame\n",
      "\n",
      "See the caveats in the documentation: https://pandas.pydata.org/pandas-docs/stable/user_guide/indexing.html#returning-a-view-versus-a-copy\n",
      "  return super().drop(\n"
     ]
    }
   ],
   "source": [
    "# Discarding columns with more than 30% missing data\n",
    "cols_missing_drop = [\n",
    "    'DER_deltaeta_jet_jet',\n",
    "    'DER_mass_jet_jet',\n",
    "    'DER_prodeta_jet_jet',\n",
    "    'DER_lep_eta_centrality',\n",
    "    'PRI_jet_subleading_pt',\n",
    "    'PRI_jet_subleading_eta',\n",
    "    'PRI_jet_subleading_phi',\n",
    "    'PRI_jet_leading_pt',\n",
    "    'PRI_jet_leading_eta',\n",
    "    'PRI_jet_leading_phi'\n",
    "]\n",
    "data_train.drop(cols_missing_drop, axis = 1, inplace = True)\n",
    "data_test.drop(cols_missing_drop, axis = 1, inplace = True)"
   ]
  },
  {
   "cell_type": "code",
   "execution_count": 21,
   "metadata": {
    "execution": {
     "iopub.execute_input": "2022-07-25T09:39:21.284147Z",
     "iopub.status.busy": "2022-07-25T09:39:21.283185Z",
     "iopub.status.idle": "2022-07-25T09:39:21.300794Z",
     "shell.execute_reply": "2022-07-25T09:39:21.299793Z",
     "shell.execute_reply.started": "2022-07-25T09:39:21.284106Z"
    }
   },
   "outputs": [
    {
     "name": "stderr",
     "output_type": "stream",
     "text": [
      "/home/diego/anaconda3/lib/python3.8/site-packages/pandas/core/series.py:4463: SettingWithCopyWarning: \n",
      "A value is trying to be set on a copy of a slice from a DataFrame\n",
      "\n",
      "See the caveats in the documentation: https://pandas.pydata.org/pandas-docs/stable/user_guide/indexing.html#returning-a-view-versus-a-copy\n",
      "  return super().fillna(\n"
     ]
    }
   ],
   "source": [
    "# Median imputation\n",
    "data_train['DER_mass_MMC'].fillna(data_train['DER_mass_MMC'].median(), inplace = True)\n",
    "data_test['DER_mass_MMC'].fillna(data_test['DER_mass_MMC'].median(), inplace = True)"
   ]
  },
  {
   "cell_type": "markdown",
   "metadata": {},
   "source": [
    "Next, we shall split the data into features and target."
   ]
  },
  {
   "cell_type": "code",
   "execution_count": 22,
   "metadata": {
    "execution": {
     "iopub.execute_input": "2022-07-25T09:39:21.302759Z",
     "iopub.status.busy": "2022-07-25T09:39:21.302192Z",
     "iopub.status.idle": "2022-07-25T09:39:21.322620Z",
     "shell.execute_reply": "2022-07-25T09:39:21.321327Z",
     "shell.execute_reply.started": "2022-07-25T09:39:21.302728Z"
    }
   },
   "outputs": [],
   "source": [
    "# Features-target split\n",
    "X_train, y_train = data_train.drop('Label', axis = 1), data_train['Label']\n",
    "X_test, y_test = data_test.drop('Label', axis = 1), data_test['Label']"
   ]
  },
  {
   "cell_type": "markdown",
   "metadata": {},
   "source": [
    "We normalize the data, so that each column has values in the similar scale."
   ]
  },
  {
   "cell_type": "code",
   "execution_count": 23,
   "metadata": {
    "execution": {
     "iopub.execute_input": "2022-07-25T09:39:21.324553Z",
     "iopub.status.busy": "2022-07-25T09:39:21.323998Z",
     "iopub.status.idle": "2022-07-25T09:39:21.546186Z",
     "shell.execute_reply": "2022-07-25T09:39:21.545063Z",
     "shell.execute_reply.started": "2022-07-25T09:39:21.324509Z"
    }
   },
   "outputs": [],
   "source": [
    "# Min-Max normalization\n",
    "for col in X_train.columns:\n",
    "    if (X_train[col].dtypes == 'int64' or X_train[col].dtypes == 'float64') and X_train[col].nunique() > 1:\n",
    "        X_train[col] = (X_train[col] - X_train[col].min()) / (X_train[col].max() - X_train[col].min())\n",
    "for col in X_test.columns:\n",
    "    if (X_test[col].dtypes == 'int64' or X_test[col].dtypes == 'float64') and X_test[col].nunique() > 1:\n",
    "        X_test[col] = (X_test[col] - X_test[col].min()) / (X_test[col].max() - X_test[col].min())"
   ]
  },
  {
   "cell_type": "markdown",
   "metadata": {},
   "source": [
    "# Model Fitting"
   ]
  },
  {
   "cell_type": "markdown",
   "metadata": {},
   "source": [
    "We fix the initial values of the parameters, based on running the algorithm several times and noting down the final parameter values. It gives us a better *starting point* and helps to achieve a better performance in a limited number of iterations."
   ]
  },
  {
   "cell_type": "code",
   "execution_count": 24,
   "metadata": {
    "execution": {
     "iopub.execute_input": "2022-07-25T09:39:21.548483Z",
     "iopub.status.busy": "2022-07-25T09:39:21.547868Z",
     "iopub.status.idle": "2022-07-25T09:39:21.554707Z",
     "shell.execute_reply": "2022-07-25T09:39:21.553397Z",
     "shell.execute_reply.started": "2022-07-25T09:39:21.548439Z"
    }
   },
   "outputs": [],
   "source": [
    "# Initial values of the model parameters\n",
    "w_init = np.array([-5, -15, -10, 9, 4, -6, 3, -10, 1, 14, 0, 0, 15, 0, 0, 7, 0, -3, 1, -8]).astype(float)\n",
    "b_init = -1."
   ]
  },
  {
   "cell_type": "code",
   "execution_count": 25,
   "metadata": {
    "execution": {
     "iopub.execute_input": "2022-07-25T09:39:21.556983Z",
     "iopub.status.busy": "2022-07-25T09:39:21.556388Z",
     "iopub.status.idle": "2022-07-25T10:34:19.603570Z",
     "shell.execute_reply": "2022-07-25T10:34:19.602126Z",
     "shell.execute_reply.started": "2022-07-25T09:39:21.556949Z"
    }
   },
   "outputs": [
    {
     "data": {
      "application/vnd.jupyter.widget-view+json": {
       "model_id": "c7497cd6d4bf4cbaacf352f9f7560681",
       "version_major": 2,
       "version_minor": 0
      },
      "text/plain": [
       "  0%|          | 0/200 [00:00<?, ?it/s]"
      ]
     },
     "metadata": {},
     "output_type": "display_data"
    },
    {
     "name": "stdout",
     "output_type": "stream",
     "text": [
      "Iteration      0:    Cost  0.5279\n",
      "Iteration     20:    Cost  0.5262\n",
      "Iteration     40:    Cost  0.5258\n",
      "Iteration     60:    Cost  0.5257\n",
      "Iteration     80:    Cost  0.5256\n",
      "Iteration    100:    Cost  0.5255\n",
      "Iteration    120:    Cost  0.5254\n",
      "Iteration    140:    Cost  0.5253\n",
      "Iteration    160:    Cost  0.5252\n",
      "Iteration    180:    Cost  0.5252\n",
      "Iteration    199:    Cost  0.5251\n"
     ]
    }
   ],
   "source": [
    "# Learning model parameters using gradient descent algorithm\n",
    "w_out, b_out, cost_history, params_history = grad_desc(X_train.to_numpy(),\n",
    "                                                       y_train.to_numpy(),\n",
    "                                                       w = w_init, # np.zeros(X_train.shape[1]),\n",
    "                                                       b = b_init, # 0,\n",
    "                                                       alpha = 0.1,\n",
    "                                                       n_iter = 200)"
   ]
  },
  {
   "cell_type": "code",
   "execution_count": 26,
   "metadata": {
    "execution": {
     "iopub.execute_input": "2022-07-25T10:34:19.606061Z",
     "iopub.status.busy": "2022-07-25T10:34:19.605410Z",
     "iopub.status.idle": "2022-07-25T10:34:19.932722Z",
     "shell.execute_reply": "2022-07-25T10:34:19.931574Z",
     "shell.execute_reply.started": "2022-07-25T10:34:19.605986Z"
    }
   },
   "outputs": [
    {
     "data": {
      "image/png": "[encoded data removed]",
      "text/plain": [
       "<Figure size 648x432 with 1 Axes>"
      ]
     },
     "metadata": {
      "needs_background": "light"
     },
     "output_type": "display_data"
    }
   ],
   "source": [
    "# Plotting cost over iteration\n",
    "plt.figure(figsize = (9, 6))\n",
    "plt.plot(cost_history)\n",
    "plt.xlabel(\"Iteration\", fontsize = 14)\n",
    "plt.ylabel(\"Cost\", fontsize = 14)\n",
    "plt.title(\"Cost vs Iteration\", fontsize = 14)\n",
    "plt.tight_layout()\n",
    "plt.show()"
   ]
  },
  {
   "cell_type": "code",
   "execution_count": 27,
   "metadata": {
    "execution": {
     "iopub.execute_input": "2022-07-25T10:34:19.934464Z",
     "iopub.status.busy": "2022-07-25T10:34:19.934120Z",
     "iopub.status.idle": "2022-07-25T10:34:19.942065Z",
     "shell.execute_reply": "2022-07-25T10:34:19.940933Z",
     "shell.execute_reply.started": "2022-07-25T10:34:19.934432Z"
    }
   },
   "outputs": [
    {
     "data": {
      "text/plain": [
       "[array([-4.99645754e+00, -1.49954955e+01, -1.00060577e+01,  8.99845520e+00,\n",
       "         4.03053007e+00, -6.00177734e+00,  2.99599158e+00, -1.00114713e+01,\n",
       "         8.68241063e-01,  1.40008883e+01, -1.54153521e-02, -1.12527031e-02,\n",
       "         1.49929856e+01, -1.43685485e-02, -6.37063778e-03,  7.00281920e+00,\n",
       "        -3.51729508e-03, -3.00629657e+00,  9.16712148e-01, -8.00254507e+00]),\n",
       " -1.027860732537464]"
      ]
     },
     "execution_count": 27,
     "metadata": {},
     "output_type": "execute_result"
    }
   ],
   "source": [
    "# Final parameter values\n",
    "params_history[-1]"
   ]
  },
  {
   "cell_type": "markdown",
   "metadata": {},
   "source": [
    "# Prediction and Evaluation"
   ]
  },
  {
   "cell_type": "markdown",
   "metadata": {},
   "source": [
    "First, we construct some functions to compute and display the *confusion matrix*, and to compute *accuracy*, given the true labels and the predicted labels of the target."
   ]
  },
  {
   "cell_type": "code",
   "execution_count": 28,
   "metadata": {
    "execution": {
     "iopub.execute_input": "2022-07-25T10:34:19.948721Z",
     "iopub.status.busy": "2022-07-25T10:34:19.948313Z",
     "iopub.status.idle": "2022-07-25T10:34:19.958504Z",
     "shell.execute_reply": "2022-07-25T10:34:19.957451Z",
     "shell.execute_reply.started": "2022-07-25T10:34:19.948687Z"
    }
   },
   "outputs": [],
   "source": [
    "# Function to compute confusion matrix\n",
    "def conf_mat(y_test, y_pred):\n",
    "    \"\"\"\n",
    "    Computes confusion matrix\n",
    "    Args:\n",
    "      y_test (array_like): true binary (0 or 1) labels\n",
    "      y_pred (array_like): predicted binary (0 or 1) labels\n",
    "    Returns:\n",
    "      confusion_mat (array): A 2D array representing a 2x2 confusion matrix\n",
    "    \"\"\"\n",
    "    y_test, y_pred = list(y_test), list(y_pred)\n",
    "    count, labels, confusion_mat = len(y_test), [0, 1], np.zeros(shape = (2, 2), dtype = int)\n",
    "    for i in range(2):\n",
    "        for j in range(2):\n",
    "            confusion_mat[i][j] = len([k for k in range(count) if y_test[k] == labels[i] and y_pred[k] == labels[j]])\n",
    "    return confusion_mat"
   ]
  },
  {
   "cell_type": "code",
   "execution_count": 29,
   "metadata": {
    "execution": {
     "iopub.execute_input": "2022-07-25T10:34:19.960739Z",
     "iopub.status.busy": "2022-07-25T10:34:19.960336Z",
     "iopub.status.idle": "2022-07-25T10:34:19.972300Z",
     "shell.execute_reply": "2022-07-25T10:34:19.971363Z",
     "shell.execute_reply.started": "2022-07-25T10:34:19.960709Z"
    }
   },
   "outputs": [],
   "source": [
    "# Function to print confusion matrix\n",
    "def conf_mat_heatmap(y_test, y_pred):\n",
    "    \"\"\"\n",
    "    Prints confusion matrix\n",
    "    Args:\n",
    "      y_test (array_like): true binary (0 or 1) labels\n",
    "      y_pred (array_like): predicted binary (0 or 1) labels\n",
    "    Returns:\n",
    "      Nothing, prints a heatmap representing a 2x2 confusion matrix\n",
    "    \"\"\"\n",
    "    confusion_mat = conf_mat(y_test, y_pred)\n",
    "    labels, confusion_mat_df = [0, 1], pd.DataFrame(confusion_mat, range(2), range(2))\n",
    "    plt.figure(figsize = (6, 4.75))\n",
    "    sns.heatmap(confusion_mat_df, annot = True, annot_kws = {\"size\": 16}, fmt = 'd')\n",
    "    plt.xticks([0.5, 1.5], labels, rotation = 'horizontal')\n",
    "    plt.yticks([0.5, 1.5], labels, rotation = 'horizontal')\n",
    "    plt.xlabel(\"Predicted label\", fontsize = 14)\n",
    "    plt.ylabel(\"True label\", fontsize = 14)\n",
    "    plt.title(\"Confusion Matrix\", fontsize = 14)\n",
    "    plt.grid(False)\n",
    "    plt.show()"
   ]
  },
  {
   "cell_type": "code",
   "execution_count": 30,
   "metadata": {
    "execution": {
     "iopub.execute_input": "2022-07-25T10:34:19.974547Z",
     "iopub.status.busy": "2022-07-25T10:34:19.973620Z",
     "iopub.status.idle": "2022-07-25T10:34:20.009625Z",
     "shell.execute_reply": "2022-07-25T10:34:20.008788Z",
     "shell.execute_reply.started": "2022-07-25T10:34:19.974509Z"
    }
   },
   "outputs": [],
   "source": [
    "# Function to compute accuracy\n",
    "def accuracy(y_test, y_pred):\n",
    "    \"\"\"\n",
    "    Computes accuracy, given true and predicted binary (0 or 1) labels\n",
    "    Args:\n",
    "      y_test (array_like): true binary (0 or 1) labels\n",
    "      y_pred (array_like): predicted binary (0 or 1) labels\n",
    "    Returns:\n",
    "      acc (float): accuracy obtained from y_test and y_pred\n",
    "    \"\"\"\n",
    "    confusion_mat = conf_mat(y_test, y_pred)\n",
    "    num = confusion_mat[0, 0] + confusion_mat[1, 1] # Number of correct predictions\n",
    "    denom = num + confusion_mat[0, 1] + confusion_mat[1, 0] # Number of total predictions\n",
    "    acc = num / denom\n",
    "    return acc"
   ]
  },
  {
   "cell_type": "code",
   "execution_count": 31,
   "metadata": {
    "execution": {
     "iopub.execute_input": "2022-07-25T10:34:20.011908Z",
     "iopub.status.busy": "2022-07-25T10:34:20.010909Z",
     "iopub.status.idle": "2022-07-25T10:34:20.331414Z",
     "shell.execute_reply": "2022-07-25T10:34:20.330319Z",
     "shell.execute_reply.started": "2022-07-25T10:34:20.011872Z"
    }
   },
   "outputs": [
    {
     "name": "stdout",
     "output_type": "stream",
     "text": [
      "Training accuracy    0.72494\n",
      "Test accuracy        0.71768\n"
     ]
    }
   ],
   "source": [
    "# Prediction and evaluation on the training set and the test set\n",
    "y_train_prob = logistic(np.matmul(X_train.to_numpy(), w_out) + (b_out * np.ones(X_train.shape[0])))\n",
    "y_test_prob = logistic(np.matmul(X_test.to_numpy(), w_out) + (b_out * np.ones(X_test.shape[0])))\n",
    "y_train_pred, y_test_pred = (y_train_prob > 0.5).astype(int), (y_test_prob > 0.5).astype(int)\n",
    "print(pd.Series({\"Training accuracy\": accuracy(y_train, y_train_pred),\n",
    "                 \"Test accuracy\": accuracy(y_test, y_test_pred)}).to_string())"
   ]
  },
  {
   "cell_type": "code",
   "execution_count": 32,
   "metadata": {
    "execution": {
     "iopub.execute_input": "2022-07-25T10:34:20.332945Z",
     "iopub.status.busy": "2022-07-25T10:34:20.332641Z",
     "iopub.status.idle": "2022-07-25T10:34:20.603868Z",
     "shell.execute_reply": "2022-07-25T10:34:20.602031Z",
     "shell.execute_reply.started": "2022-07-25T10:34:20.332916Z"
    }
   },
   "outputs": [
    {
     "data": {
      "image/png": "[encoded data removed]",
      "text/plain": [
       "<Figure size 432x342 with 2 Axes>"
      ]
     },
     "metadata": {
      "needs_background": "light"
     },
     "output_type": "display_data"
    }
   ],
   "source": [
    "# Confusion matrix for predictions on the test set\n",
    "conf_mat_heatmap(y_test, y_test_pred)"
   ]
  },
  {
   "cell_type": "markdown",
   "metadata": {},
   "source": [
    "# Regularization"
   ]
  },
  {
   "cell_type": "markdown",
   "metadata": {},
   "source": [
    "*Regularization* provides a tool to deal with overfitting. Essentially it puts a restriction the parameter values by adding a term in the cost function. This way, it prevents the model from fitting *too well* on the training set and failing to generalize on the test set. The following is one way to do this:\n",
    "\n",
    "$$ \\text{new } J(\\mathbf{w}, b) := \\text{old } J(\\mathbf{w}, b) + \\frac{\\lambda}{2m} \\sum_{j=1}^n w_j^2, \\tag{5} $$\n",
    "\n",
    "where $\\lambda \\geq 0$ is called the regularization parameter. Evidently, if $\\lambda = 0$, we get back the previous setup. Thus, the new cost function, parameterized by $\\lambda$, gives a generalization of the setup described in the previous sections. The setup in $(5)$ is referred to as the $L_2$ regularization, as the regularization term essentially is $(\\lambda/2m)\\,\\left\\Vert \\mathbf{w} \\right\\Vert_2^2$, i.e. the [$l^2$ norm](https://mathworld.wolfram.com/L2-Norm.html) of $\\mathbf{w}$, multiplied by the term $(\\lambda/2m)$. In this section, we shall employ the $L_2$ regularization on the cost function, given in $(3)$, and check if it improves performance of the logistic regression model, derived thence. We rewrite the functions to compute cost, gradient and to implement gradient descent algorithm, incorporating regularization with the extra parameter $l$."
   ]
  },
  {
   "cell_type": "code",
   "execution_count": 33,
   "metadata": {
    "execution": {
     "iopub.execute_input": "2022-07-25T10:34:20.605439Z",
     "iopub.status.busy": "2022-07-25T10:34:20.605139Z",
     "iopub.status.idle": "2022-07-25T10:34:20.614714Z",
     "shell.execute_reply": "2022-07-25T10:34:20.613458Z",
     "shell.execute_reply.started": "2022-07-25T10:34:20.605412Z"
    }
   },
   "outputs": [
    {
     "name": "stdout",
     "output_type": "stream",
     "text": [
      "cost_logreg(X = [[ 10  20]\n",
      " [-10  10]], y = [1 0], w = [0.5 1.5], b = 1, l = 1) = 6.125008350784906\n"
     ]
    }
   ],
   "source": [
    "# Function to compute regularized cost function in terms of model parameters - using for loops\n",
    "def cost_logreg_reg(X, y, w, b, l):\n",
    "    \"\"\"\n",
    "    Computes the cost function, given data and model parameters\n",
    "    Args:\n",
    "      X (ndarray, shape (m,n))  : data on features, m observations with n features\n",
    "      y (array_like, shape (m,)): array of true values (0 or 1) of target\n",
    "      w (array_like, shape (n,)): weight parameters of the model      \n",
    "      b (float)                 : bias parameter of the model\n",
    "      l (float)                 : regularization parameter\n",
    "    Returns:\n",
    "      cost (float): nonnegative cost corresponding to y and y_dash \n",
    "    \"\"\"\n",
    "    m, n = X.shape\n",
    "    assert len(y) == m, \"Number of feature observations and number of target observations do not match\"\n",
    "    assert len(w) == n, \"Number of features and number of weight parameters do not match\"\n",
    "    cost = cost_logreg(X, y, w, b)\n",
    "    for j in range(n):\n",
    "        cost += (l / (2 * m)) * (w[j]**2)\n",
    "    return cost\n",
    "\n",
    "X, y, w, b, l = np.array([[10, 20], [-10, 10]]), np.array([1, 0]), np.array([0.5, 1.5]), 1, 1\n",
    "print(f\"cost_logreg(X = {X}, y = {y}, w = {w}, b = {b}, l = {l}) = {cost_logreg_reg(X, y, w, b, l)}\")"
   ]
  },
  {
   "cell_type": "code",
   "execution_count": 34,
   "metadata": {
    "execution": {
     "iopub.execute_input": "2022-07-25T10:34:20.616539Z",
     "iopub.status.busy": "2022-07-25T10:34:20.616135Z",
     "iopub.status.idle": "2022-07-25T10:34:20.632556Z",
     "shell.execute_reply": "2022-07-25T10:34:20.631467Z",
     "shell.execute_reply.started": "2022-07-25T10:34:20.616507Z"
    }
   },
   "outputs": [
    {
     "name": "stdout",
     "output_type": "stream",
     "text": [
      "cost_logreg_vec_reg(X = [[ 10  20]\n",
      " [-10  10]], y = [1 0], w = [0.5 1.5], b = 1, l = 1) = 6.125008350784906\n"
     ]
    }
   ],
   "source": [
    "# Function to compute regularized cost function in terms of model parameters - using vectorization\n",
    "def cost_logreg_vec_reg(X, y, w, b, l):\n",
    "    \"\"\"\n",
    "    Computes the cost function, given data and model parameters\n",
    "    Args:\n",
    "      X (ndarray, shape (m,n))  : data on features, m observations with n features\n",
    "      y (array_like, shape (m,)): array of true values (0 or 1) of target\n",
    "      w (array_like, shape (n,)): weight parameters of the model      \n",
    "      b (float)                 : bias parameter of the model\n",
    "      l (float)                 : regularization parameter\n",
    "    Returns:\n",
    "      cost (float): nonnegative cost corresponding to y and y_dash \n",
    "    \"\"\"\n",
    "    m, n = X.shape\n",
    "    assert len(y) == m, \"Number of feature observations and number of target observations do not match\"\n",
    "    assert len(w) == n, \"Number of features and number of weight parameters do not match\"\n",
    "    cost = cost_logreg_vec(X, y, w, b)\n",
    "    cost += (l / (2 * m)) * np.dot(w, w)\n",
    "    return cost\n",
    "\n",
    "X, y, w, b, l = np.array([[10, 20], [-10, 10]]), np.array([1, 0]), np.array([0.5, 1.5]), 1, 1\n",
    "print(f\"cost_logreg_vec_reg(X = {X}, y = {y}, w = {w}, b = {b}, l = {l}) = {cost_logreg_vec_reg(X, y, w, b, l)}\")"
   ]
  },
  {
   "cell_type": "markdown",
   "metadata": {},
   "source": [
    "From $(5)$, we can compute the modified partial derivatives of $J$ with respect to $w_j$ and $b$ as follows:\n",
    "\n",
    "$$ \\begin{align*}\n",
    "& \\text{new } \\frac{\\partial J(\\mathbf{w},b)}{\\partial w_j} = \\text{old } \\frac{\\partial J(\\mathbf{w},b)}{\\partial w_j} + \\frac{\\lambda}{m} w_j,\\;\\; \\text{ for } j = 1, 2, \\ldots, n; \\newline\n",
    "& \\text{new } \\frac{\\partial J(\\mathbf{w}, b)}{\\partial b} = \\text{old } \\frac{\\partial J(\\mathbf{w}, b)}{\\partial b}.\n",
    "\\end{align*} $$\n",
    "\n",
    "We construct a function to compute these gradients, first using for loops, then using vectorization."
   ]
  },
  {
   "cell_type": "code",
   "execution_count": 35,
   "metadata": {
    "execution": {
     "iopub.execute_input": "2022-07-25T10:34:20.634408Z",
     "iopub.status.busy": "2022-07-25T10:34:20.634034Z",
     "iopub.status.idle": "2022-07-25T10:34:20.655074Z",
     "shell.execute_reply": "2022-07-25T10:34:20.653881Z",
     "shell.execute_reply.started": "2022-07-25T10:34:20.634374Z"
    }
   },
   "outputs": [
    {
     "name": "stdout",
     "output_type": "stream",
     "text": [
      "grad_logreg(X = [[ 10  20]\n",
      " [-10  10]], y = [1 0], w = [0.5 1.5], b = 1, l = 1) = (array([-4.74991649,  5.74991649]), 0.4999916492890759)\n"
     ]
    }
   ],
   "source": [
    "# Function to compute gradients of the regularized cost function with respect to model parameters - using for loops\n",
    "def grad_logreg_reg(X, y, w, b, l):\n",
    "    \"\"\"\n",
    "    Computes gradients of the cost function with respect to model parameters\n",
    "    Args:\n",
    "      X (ndarray, shape (m,n))  : data on features, m observations with n features\n",
    "      y (array_like, shape (m,)): array of true values of target (0 or 1)\n",
    "      w (array_like, shape (n,)): weight parameters of the model      \n",
    "      b (float)                 : bias parameter of the model\n",
    "      l (float)                 : regularization parameter\n",
    "    Returns:\n",
    "      grad_w (array_like, shape (n,)): gradients of the cost function with respect to the weight parameters\n",
    "      grad_b (float)                 : gradient of the cost function with respect to the bias parameter\n",
    "    \"\"\"\n",
    "    m, n = X.shape\n",
    "    assert len(y) == m, \"Number of feature observations and number of target observations do not match\"\n",
    "    assert len(w) == n, \"Number of features and number of weight parameters do not match\"\n",
    "    grad_w, grad_b = grad_logreg(X, y, w, b)\n",
    "    for j in range(n):\n",
    "        grad_w[j] += (l / m) * w[j]\n",
    "    return grad_w, grad_b\n",
    "\n",
    "X, y, w, b, l = np.array([[10, 20], [-10, 10]]), np.array([1, 0]), np.array([0.5, 1.5]), 1, 1\n",
    "print(f\"grad_logreg(X = {X}, y = {y}, w = {w}, b = {b}, l = {l}) = {grad_logreg_reg(X, y, w, b, l)}\")"
   ]
  },
  {
   "cell_type": "code",
   "execution_count": 36,
   "metadata": {
    "execution": {
     "iopub.execute_input": "2022-07-25T10:34:20.657038Z",
     "iopub.status.busy": "2022-07-25T10:34:20.656582Z",
     "iopub.status.idle": "2022-07-25T10:34:20.676705Z",
     "shell.execute_reply": "2022-07-25T10:34:20.675569Z",
     "shell.execute_reply.started": "2022-07-25T10:34:20.656941Z"
    }
   },
   "outputs": [
    {
     "name": "stdout",
     "output_type": "stream",
     "text": [
      "grad_logreg_vec_reg(X = [[ 10  20]\n",
      " [-10  10]], y = [1 0], w = [0.5 1.5], b = 1, l = 1) = (array([-4.74991649,  5.74991649]), 0.4999916492890759)\n"
     ]
    }
   ],
   "source": [
    "# Function to compute gradients of the regularized cost function with respect to model parameters - using vectorization\n",
    "def grad_logreg_vec_reg(X, y, w, b, l):\n",
    "    \"\"\"\n",
    "    Computes gradients of the cost function with respect to model parameters\n",
    "    Args:\n",
    "      X (ndarray, shape (m,n))  : data on features, m observations with n features\n",
    "      y (array_like, shape (m,)): array of true values of target (0 or 1)\n",
    "      w (array_like, shape (n,)): weight parameters of the model      \n",
    "      b (float)                 : bias parameter of the model\n",
    "      l (float)                 : regularization parameter\n",
    "    Returns:\n",
    "      grad_w (array_like, shape (n,)): gradients of the cost function with respect to the weight parameters\n",
    "      grad_b (float)                 : gradient of the cost function with respect to the bias parameter\n",
    "    \"\"\"\n",
    "    m, n = X.shape\n",
    "    assert len(y) == m, \"Number of feature observations and number of target observations do not match\"\n",
    "    assert len(w) == n, \"Number of features and number of weight parameters do not match\"\n",
    "    grad_w, grad_b = grad_logreg_vec(X, y, w, b)\n",
    "    grad_w += (l / m) * w\n",
    "    return grad_w, grad_b\n",
    "\n",
    "X, y, w, b, l = np.array([[10, 20], [-10, 10]]), np.array([1, 0]), np.array([0.5, 1.5]), 1, 1\n",
    "print(f\"grad_logreg_vec_reg(X = {X}, y = {y}, w = {w}, b = {b}, l = {l}) = {grad_logreg_vec_reg(X, y, w, b, l)}\")"
   ]
  },
  {
   "cell_type": "markdown",
   "metadata": {},
   "source": [
    "Using the regularised cost function and its gradients with respect to the model parameters, we construct a function to implement the gradient descent algorithm for logistic regression, incorporating regularization. Specifically, the algorithm learns the model parameters, with the goal of minimizing the regularised cost function in $(5)$, instead of the usual cost function in $(3)$."
   ]
  },
  {
   "cell_type": "code",
   "execution_count": 37,
   "metadata": {
    "execution": {
     "iopub.execute_input": "2022-07-25T10:34:20.678698Z",
     "iopub.status.busy": "2022-07-25T10:34:20.678420Z",
     "iopub.status.idle": "2022-07-25T10:34:20.697950Z",
     "shell.execute_reply": "2022-07-25T10:34:20.696890Z",
     "shell.execute_reply.started": "2022-07-25T10:34:20.678675Z"
    }
   },
   "outputs": [],
   "source": [
    "# Gradient descent algorithm for logistic regression with regularization\n",
    "def grad_desc_reg(X, y, w, b, l, alpha, n_iter, show_cost = True, show_params = False): \n",
    "    \"\"\"\n",
    "    Implements batch gradient descent algorithm to learn and update model parameters\n",
    "    with prespecified number of interations and learning rate\n",
    "    Args:\n",
    "      X (ndarray, shape (m,n))  : data on features, m observations with n features\n",
    "      y (array_like, shape (m,)): true values of target (0 or 1)\n",
    "      w (array_like, shape (n,)): initial value of weight parameters\n",
    "      b (scalar)                : initial value of bias parameter\n",
    "      l (float)                 : regularization parameter\n",
    "      alpha (float)             : learning rate\n",
    "      n_iter (int)              : number of iterations\n",
    "    Returns:\n",
    "      w (array_like, shape (n,)): updated values of weight parameters\n",
    "      b (scalar)                : updated value of bias parameter\n",
    "    \"\"\"\n",
    "    m, n = X.shape\n",
    "    assert len(y) == m, \"Number of feature observations and number of target observations do not match\"\n",
    "    assert len(w) == n, \"Number of features and number of weight parameters do not match\"\n",
    "    cost_history, params_history = [], []\n",
    "    for i, j in itertools.product(range(n_iter), range(1)):\n",
    "        grad_w, grad_b = grad_logreg_vec_reg(X, y, w, b, l)   \n",
    "        w += - alpha * grad_w\n",
    "        b += - alpha * grad_b\n",
    "        cost =  cost_logreg_vec_reg(X, y, w, b, l)\n",
    "        cost_history.append(cost)\n",
    "        params_history.append([w, b])\n",
    "        if show_cost == True and show_params == False and (i % math.ceil(n_iter / 10) == 0 or i == n_iter - 1):\n",
    "            print(f\"Iteration {i:6}:    Cost  {float(cost_history[i]):3.4f}\")\n",
    "        if show_cost == True and show_params == True and (i % math.ceil(n_iter / 10) == 0 or i == n_iter - 1):\n",
    "            print(f\"Iteration {i:6}:    Cost  {float(cost_history[i]):3.4f},    Params  {params_history[i]}\")\n",
    "    return w, b, cost_history, params_history"
   ]
  },
  {
   "cell_type": "markdown",
   "metadata": {},
   "source": [
    "We use the same initial values for the model parameters as in the unregularized implementation."
   ]
  },
  {
   "cell_type": "code",
   "execution_count": 38,
   "metadata": {
    "execution": {
     "iopub.execute_input": "2022-07-25T10:34:20.700358Z",
     "iopub.status.busy": "2022-07-25T10:34:20.699377Z",
     "iopub.status.idle": "2022-07-25T10:34:20.718222Z",
     "shell.execute_reply": "2022-07-25T10:34:20.717291Z",
     "shell.execute_reply.started": "2022-07-25T10:34:20.700312Z"
    }
   },
   "outputs": [],
   "source": [
    "# Initial values of the model parameters\n",
    "w_init = np.array([-5, -15, -10, 9, 4, -6, 3, -10, 1, 14, 0, 0, 15, 0, 0, 7, 0, -3, 1, -8]).astype(float)\n",
    "b_init = -1."
   ]
  },
  {
   "cell_type": "code",
   "execution_count": 39,
   "metadata": {
    "execution": {
     "iopub.execute_input": "2022-07-25T10:34:20.719955Z",
     "iopub.status.busy": "2022-07-25T10:34:20.719255Z",
     "iopub.status.idle": "2022-07-25T11:28:56.056927Z",
     "shell.execute_reply": "2022-07-25T11:28:56.055562Z",
     "shell.execute_reply.started": "2022-07-25T10:34:20.719921Z"
    }
   },
   "outputs": [
    {
     "data": {
      "application/vnd.jupyter.widget-view+json": {
       "model_id": "dcca5663ff5649ed9a345fea61b23e1b",
       "version_major": 2,
       "version_minor": 0
      },
      "text/plain": [
       "  0%|          | 0/200 [00:00<?, ?it/s]"
      ]
     },
     "metadata": {},
     "output_type": "display_data"
    },
    {
     "name": "stdout",
     "output_type": "stream",
     "text": [
      "Iteration      0:    Cost  0.5308\n",
      "Iteration     20:    Cost  0.5290\n",
      "Iteration     40:    Cost  0.5287\n",
      "Iteration     60:    Cost  0.5285\n",
      "Iteration     80:    Cost  0.5284\n",
      "Iteration    100:    Cost  0.5283\n",
      "Iteration    120:    Cost  0.5282\n",
      "Iteration    140:    Cost  0.5282\n",
      "Iteration    160:    Cost  0.5281\n",
      "Iteration    180:    Cost  0.5280\n",
      "Iteration    199:    Cost  0.5280\n"
     ]
    }
   ],
   "source": [
    "# Learning model parameters using gradient descent algorithm\n",
    "w_out_reg, b_out_reg, cost_history_reg, params_history_reg = grad_desc_reg(X_train.to_numpy(),\n",
    "                                                                           y_train.to_numpy(),\n",
    "                                                                           w = w_init, # np.zeros(X_train.shape[1]),\n",
    "                                                                           b = b_init, # 0,\n",
    "                                                                           l = 1.,\n",
    "                                                                           alpha = 0.1,\n",
    "                                                                           n_iter = 200)"
   ]
  },
  {
   "cell_type": "code",
   "execution_count": 40,
   "metadata": {
    "execution": {
     "iopub.execute_input": "2022-07-25T11:28:56.059256Z",
     "iopub.status.busy": "2022-07-25T11:28:56.058653Z",
     "iopub.status.idle": "2022-07-25T11:28:56.378617Z",
     "shell.execute_reply": "2022-07-25T11:28:56.377314Z",
     "shell.execute_reply.started": "2022-07-25T11:28:56.059209Z"
    }
   },
   "outputs": [
    {
     "data": {
      "image/png": "[encoded data removed]",
      "text/plain": [
       "<Figure size 648x432 with 1 Axes>"
      ]
     },
     "metadata": {
      "needs_background": "light"
     },
     "output_type": "display_data"
    }
   ],
   "source": [
    "# Plotting cost over iteration\n",
    "plt.figure(figsize = (9, 6))\n",
    "plt.plot(cost_history_reg)\n",
    "plt.xlabel(\"Iteration\", fontsize = 14)\n",
    "plt.ylabel(\"Cost\", fontsize = 14)\n",
    "plt.title(\"Cost vs Iteration\", fontsize = 14)\n",
    "plt.tight_layout()\n",
    "plt.show()"
   ]
  },
  {
   "cell_type": "code",
   "execution_count": 41,
   "metadata": {
    "execution": {
     "iopub.execute_input": "2022-07-25T11:28:56.380101Z",
     "iopub.status.busy": "2022-07-25T11:28:56.379780Z",
     "iopub.status.idle": "2022-07-25T11:28:56.386990Z",
     "shell.execute_reply": "2022-07-25T11:28:56.385922Z",
     "shell.execute_reply.started": "2022-07-25T11:28:56.380070Z"
    }
   },
   "outputs": [
    {
     "data": {
      "text/plain": [
       "[array([-4.99595615e+00, -1.49940003e+01, -1.00050567e+01,  8.99755667e+00,\n",
       "         4.03013340e+00, -6.00117721e+00,  2.99569503e+00, -1.00104720e+01,\n",
       "         8.68188045e-01,  1.39994907e+01, -1.54086583e-02, -1.12460342e-02,\n",
       "         1.49914862e+01, -1.43617862e-02, -6.36400816e-03,  7.00211925e+00,\n",
       "        -3.51065732e-03, -3.00599285e+00,  9.16633041e-01, -8.00174254e+00]),\n",
       " -1.0278485286089747]"
      ]
     },
     "execution_count": 41,
     "metadata": {},
     "output_type": "execute_result"
    }
   ],
   "source": [
    "# Final parameter values\n",
    "params_history_reg[-1]"
   ]
  },
  {
   "cell_type": "code",
   "execution_count": 42,
   "metadata": {
    "execution": {
     "iopub.execute_input": "2022-07-25T11:28:56.389301Z",
     "iopub.status.busy": "2022-07-25T11:28:56.388663Z",
     "iopub.status.idle": "2022-07-25T11:28:56.698331Z",
     "shell.execute_reply": "2022-07-25T11:28:56.697071Z",
     "shell.execute_reply.started": "2022-07-25T11:28:56.389268Z"
    }
   },
   "outputs": [
    {
     "name": "stdout",
     "output_type": "stream",
     "text": [
      "Training accuracy    0.72495\n",
      "Test accuracy        0.71768\n"
     ]
    }
   ],
   "source": [
    "# Prediction and evaluation on the training set and the test set\n",
    "y_train_prob_reg = logistic(np.matmul(X_train.to_numpy(), w_out_reg) + (b_out_reg * np.ones(X_train.shape[0])))\n",
    "y_test_prob_reg = logistic(np.matmul(X_test.to_numpy(), w_out_reg) + (b_out_reg * np.ones(X_test.shape[0])))\n",
    "y_train_pred_reg, y_test_pred_reg = (y_train_prob_reg > 0.5).astype(int), (y_test_prob_reg > 0.5).astype(int)\n",
    "print(pd.Series({\"Training accuracy\": accuracy(y_train, y_train_pred_reg),\n",
    "                 \"Test accuracy\": accuracy(y_test, y_test_pred_reg)}).to_string())"
   ]
  },
  {
   "cell_type": "code",
   "execution_count": 43,
   "metadata": {
    "execution": {
     "iopub.execute_input": "2022-07-25T11:28:56.700558Z",
     "iopub.status.busy": "2022-07-25T11:28:56.699605Z",
     "iopub.status.idle": "2022-07-25T11:28:57.102724Z",
     "shell.execute_reply": "2022-07-25T11:28:57.101666Z",
     "shell.execute_reply.started": "2022-07-25T11:28:56.700521Z"
    }
   },
   "outputs": [
    {
     "data": {
      "image/png": "[encoded data removed]",
      "text/plain": [
       "<Figure size 432x342 with 2 Axes>"
      ]
     },
     "metadata": {
      "needs_background": "light"
     },
     "output_type": "display_data"
    }
   ],
   "source": [
    "# Confusion matrix for predictions on the test set\n",
    "conf_mat_heatmap(y_test, y_test_pred_reg)"
   ]
  },
  {
   "cell_type": "markdown",
   "metadata": {},
   "source": [
    "Thus, in this scenario, regularization does not help much. This is expected since the unregularized implementation does not indicate overfitting."
   ]
  },
  {
   "cell_type": "markdown",
   "metadata": {},
   "source": [
    "# Acknowledgements\n",
    "\n",
    "- [Higgs Boson Machine Learning Challenge](https://www.kaggle.com/competitions/higgs-boson)\n",
    "- [The HiggsML challenge documentation](https://higgsml.ijclab.in2p3.fr/documentation/)"
   ]
  },
  {
   "cell_type": "markdown",
   "metadata": {},
   "source": [
    "# References\n",
    "\n",
    "- [AdaBoost](https://en.wikipedia.org/wiki/AdaBoost)\n",
    "- [Algorithm](https://en.wikipedia.org/wiki/Algorithm)\n",
    "- [Augustin-Louis Cauchy](https://en.wikipedia.org/wiki/Augustin-Louis_Cauchy)\n",
    "- [Binary classification](https://en.wikipedia.org/wiki/Binary_classification)\n",
    "- [Bounded function](https://en.wikipedia.org/wiki/Bounded_function)\n",
    "- [Classification rule](https://en.wikipedia.org/wiki/Classification_rule)\n",
    "- [Decision tree](https://en.wikipedia.org/wiki/Decision_tree_learning)\n",
    "- [Differentiable function](https://en.wikipedia.org/wiki/Differentiable_function)\n",
    "- [Dot product](https://en.wikipedia.org/wiki/Dot_product)\n",
    "- [Evaluation metric](https://en.wikipedia.org/wiki/Evaluation_of_binary_classifiers)\n",
    "- [First order methods](https://en.wikipedia.org/wiki/Category:First_order_methods)\n",
    "- [Fundamental interaction](https://en.wikipedia.org/wiki/Fundamental_interaction)\n",
    "- [Gradient](https://en.wikipedia.org/wiki/Gradient)\n",
    "- [Gradient descent algorithm](https://en.wikipedia.org/wiki/Gradient_descent)\n",
    "- [Haskell Curry](https://en.wikipedia.org/wiki/Haskell_Curry)\n",
    "- [Inflection point](https://en.wikipedia.org/wiki/Inflection_point)\n",
    "- [Iterative method](https://en.wikipedia.org/wiki/Iterative_method)\n",
    "- [Jacques Hadamard](https://en.wikipedia.org/wiki/Jacques_Hadamard)\n",
    "- [$k$-nearest neighbors](https://en.wikipedia.org/wiki/K-nearest_neighbors_algorithm)\n",
    "- [$l^2$ norm](https://mathworld.wolfram.com/L2-Norm.html)\n",
    "- [Learning rate](https://en.wikipedia.org/wiki/Learning_rate)\n",
    "- [Linear discriminant analysis](https://en.wikipedia.org/wiki/Linear_discriminant_analysis)\n",
    "- [Logistic regression](https://en.wikipedia.org/wiki/Logistic_regression)\n",
    "- [Machine learning](https://en.wikipedia.org/wiki/Machine_learning)\n",
    "- [Mathematical optimization](https://en.wikipedia.org/wiki/Mathematical_optimization)\n",
    "- [Matrix multiplication](https://en.wikipedia.org/wiki/Matrix_multiplication)\n",
    "- [Maxima and minima](https://en.wikipedia.org/wiki/Maxima_and_minima)\n",
    "- [Naive Bayes](https://en.wikipedia.org/wiki/Naive_Bayes_classifier)\n",
    "- [Neural network](https://en.wikipedia.org/wiki/Artificial_neural_network)\n",
    "- [Particle physics](https://en.wikipedia.org/wiki/Particle_physics)\n",
    "- [Random forest](https://en.wikipedia.org/wiki/Random_forest)\n",
    "- [Scalar multiplication](https://en.wikipedia.org/wiki/Scalar_multiplication)\n",
    "- [Scikit-learn](https://en.wikipedia.org/wiki/Scikit-learn)\n",
    "- [Sigmoid function](https://en.wikipedia.org/wiki/Sigmoid_function)\n",
    "- [Sorting hat](https://en.wikipedia.org/wiki/Magical_objects_in_Harry_Potter#Sorting_Hat)\n",
    "- [Statistical classification](https://en.wikipedia.org/wiki/Statistical_classification)\n",
    "- [Statistics](https://en.wikipedia.org/wiki/Statistics)\n",
    "- [Stochastic gradient descent](https://en.wikipedia.org/wiki/Stochastic_gradient_descent)\n",
    "- [Subatomic particle](https://en.wikipedia.org/wiki/Subatomic_particle)\n",
    "- [Supervised learning](https://en.wikipedia.org/wiki/Supervised_learning)\n",
    "- [Support vector machine](https://en.wikipedia.org/wiki/Support-vector_machine)\n",
    "- [Test data](https://en.wikipedia.org/wiki/Training,_validation,_and_test_data_sets#Test_data_set)\n",
    "- [Training data](https://en.wikipedia.org/wiki/Training,_validation,_and_test_data_sets#Training_data_set)\n",
    "- [Vector addition](https://en.wikipedia.org/wiki/Euclidean_vector#Addition_and_subtraction)\n",
    "- [XGBoost](https://en.wikipedia.org/wiki/XGBoost)\n"
   ]
  },
  {
   "cell_type": "code",
   "execution_count": 46,
   "metadata": {
    "execution": {
     "iopub.execute_input": "2022-07-25T11:28:57.104510Z",
     "iopub.status.busy": "2022-07-25T11:28:57.104202Z",
     "iopub.status.idle": "2022-07-25T11:28:57.112725Z",
     "shell.execute_reply": "2022-07-25T11:28:57.111614Z",
     "shell.execute_reply.started": "2022-07-25T11:28:57.104483Z"
    }
   },
   "outputs": [
    {
     "name": "stdout",
     "output_type": "stream",
     "text": [
      "Process runtime         633.17 seconds\n",
      "Process memory usage         428.23 MB\n"
     ]
    }
   ],
   "source": [
    "# Runtime and memory usage\n",
    "\n",
    "#200 iteraciones = 8 min / 428MB  Memoria \n",
    "\n",
    "stop = time.time()\n",
    "print(pd.Series({\"Process runtime\": \"{:.2f} seconds\".format(float(stop - start)),\n",
    "                 \"Process memory usage\": \"{:.2f} MB\".format(float(process.memory_info()[0]/(1024*1024)))}).to_string())"
   ]
  },
  {
   "cell_type": "code",
   "execution_count": null,
   "metadata": {},
   "outputs": [],
   "source": []
  }
 ],
 "metadata": {
  "kernelspec": {
   "display_name": "Python 3",
   "language": "python",
   "name": "python3"
  },
  "language_info": {
   "codemirror_mode": {
    "name": "ipython",
    "version": 3
   },
   "file_extension": ".py",
   "mimetype": "text/x-python",
   "name": "python",
   "nbconvert_exporter": "python",
   "pygments_lexer": "ipython3",
   "version": "3.8.8"
  }
 },
 "nbformat": 4,
 "nbformat_minor": 4
}
